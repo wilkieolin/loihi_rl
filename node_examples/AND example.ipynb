{
 "cells": [
  {
   "cell_type": "code",
   "execution_count": 1,
   "metadata": {},
   "outputs": [],
   "source": [
    "import os\n",
    "import sys\n",
    "sys.path.append(\"..\")\n",
    "import prototypes\n",
    "from primitives import *\n",
    "from agent import DummyAgent\n",
    "\n",
    "import nxsdk.api.n2a as nx\n",
    "import numpy as np\n",
    "from nxsdk.graph.monitor.probes import *"
   ]
  },
  {
   "cell_type": "markdown",
   "metadata": {},
   "source": [
    "In this example, we build and test a block to demonstrate how an operation can be built up using the ProcessNodes framework. Here, the computation is taking a one-hot 'state' spike vector, and combining it with a one-hot 'action' vector to build the outer product and compute the current state-action pair. \n",
    "\n",
    "This computation can be done by hand, but here the nodes framework automatically computes the number of compartments required and generates the appropriate connectivity matrix to give the correct answer. In this way, if the number of actions or states changes, the compartments and connections are updated when the network is compiled. "
   ]
  },
  {
   "cell_type": "code",
   "execution_count": 2,
   "metadata": {},
   "outputs": [],
   "source": [
    "n_states = 5\n",
    "n_actions = 3\n",
    "n_estimates = n_states * n_actions\n",
    "shape = (n_actions, n_states)\n",
    "time = n_estimates+1"
   ]
  },
  {
   "cell_type": "code",
   "execution_count": 3,
   "metadata": {},
   "outputs": [],
   "source": [
    "agent = DummyAgent(n_actions, n_states)\n",
    "net = agent.network"
   ]
  },
  {
   "cell_type": "markdown",
   "metadata": {},
   "source": [
    "Here, we create the incoming spike and action signals. In this test case, they are timed spikes generated beforehand."
   ]
  },
  {
   "cell_type": "code",
   "execution_count": 4,
   "metadata": {},
   "outputs": [],
   "source": [
    "state = net.createSpikeGenProcess(numPorts = n_states)\n",
    "action = net.createSpikeGenProcess(numPorts = n_actions)"
   ]
  },
  {
   "cell_type": "code",
   "execution_count": 5,
   "metadata": {},
   "outputs": [],
   "source": [
    "#create a spike for each state/action pair\n",
    "def create_spikes(state_gen, action_gen, time):\n",
    "    n_states = state_gen.numPorts\n",
    "    n_actions = action_gen.numPorts\n",
    "    \n",
    "    state_signals = [[] for i in range(n_states)]\n",
    "    action_signals = [[] for i in range(n_actions)]\n",
    "    \n",
    "    for t in range(time-1):\n",
    "        state_port = t % n_states\n",
    "        action_port = t // n_states\n",
    "        \n",
    "        state_signals[state_port].append(t+1)\n",
    "        action_signals[action_port].append(t+1)\n",
    "        \n",
    "    [state_gen.addSpikes([i], [state_signals[i]]) for i in range(n_states)]\n",
    "    [action_gen.addSpikes([i], [action_signals[i]]) for i in range(n_actions)]"
   ]
  },
  {
   "cell_type": "code",
   "execution_count": 6,
   "metadata": {},
   "outputs": [],
   "source": [
    "create_spikes(state, action, time)"
   ]
  },
  {
   "cell_type": "markdown",
   "metadata": {},
   "source": [
    "Now, the node to carry out the and operation is created in one line by calling pre-defined prototypes. "
   ]
  },
  {
   "cell_type": "code",
   "execution_count": 7,
   "metadata": {},
   "outputs": [],
   "source": [
    "and_op = AndNode(net, shape)"
   ]
  },
  {
   "cell_type": "markdown",
   "metadata": {},
   "source": [
    "Finally, the nodes of the graph are connected by calling the appropriate connection method. In this case, because the operation is an outer product of two vectors, we can use the dense_along_axis method to densely connect the appropriate source along its matching axis.\n",
    "\n",
    "In the call below, the spike generator for the actions is connected along its 0th (only) axis to the and node's matching 0th axis using the and node's synaptic prototype. Nodes may require specific synapses to operate correctly, and here it is accessed by calling its member get_synproto() method."
   ]
  },
  {
   "cell_type": "code",
   "execution_count": 8,
   "metadata": {},
   "outputs": [],
   "source": [
    "action_conn = dense_along_axis(action, (n_actions,1), 0,\n",
    "                              and_op.get_inputs(), and_op.shape, 0,\n",
    "                             and_op.get_synproto())"
   ]
  },
  {
   "cell_type": "markdown",
   "metadata": {},
   "source": [
    "Now, the same is done for the state spike generator. The only difference is it is connected along the and node's 1st axis, which matches its shape, forming the product."
   ]
  },
  {
   "cell_type": "code",
   "execution_count": 9,
   "metadata": {},
   "outputs": [],
   "source": [
    "state_conn = dense_along_axis(state, (n_states,1), 0,\n",
    "                              and_op.get_inputs(), and_op.shape, 1,\n",
    "                             and_op.get_synproto())"
   ]
  },
  {
   "cell_type": "code",
   "execution_count": 10,
   "metadata": {},
   "outputs": [],
   "source": [
    "output = and_op.get_outputs()\n",
    "out_spikes = output.probe(nx.ProbeParameter.SPIKE)"
   ]
  },
  {
   "cell_type": "code",
   "execution_count": 11,
   "metadata": {},
   "outputs": [
    {
     "name": "stdout",
     "output_type": "stream",
     "text": [
      "\u001b[1;30mINFO\u001b[0m:\u001b[34mDRV\u001b[0m:  SLURM is being run in background\n",
      "\u001b[1;30mINFO\u001b[0m:\u001b[34mDRV\u001b[0m:  Connecting to 10.212.98.106:37079\n",
      "\u001b[1;30mINFO\u001b[0m:\u001b[34mDRV\u001b[0m:      Host server up..............Done 0.18s\n",
      "\u001b[1;30mINFO\u001b[0m:\u001b[34mDRV\u001b[0m:      Compiling Embedded snips....Done 0.30s\n",
      "\u001b[1;30mINFO\u001b[0m:\u001b[34mDRV\u001b[0m:      Encoding axons/synapses.....Done 3.20ms\n",
      "\u001b[1;30mINFO\u001b[0m:\u001b[34mHST\u001b[0m:  Args chip=0 cpu=0 /homes/wolin/python3_venv/lib/python3.5/site-packages/nxsdk/driver/compilers/../../../temp/1599605672.3825424/launcher_chip0_lmt0.bin --chips=1 --remote-relay=1 --epoch=0 \n",
      "\u001b[1;30mINFO\u001b[0m:\u001b[34mHST\u001b[0m:  Lakemont_driver...\n",
      "\u001b[1;30mINFO\u001b[0m:\u001b[34mDRV\u001b[0m:      Booting up..................Done 2.03s\n",
      "\u001b[1;30mINFO\u001b[0m:\u001b[34mDRV\u001b[0m:      Encoding probes.............Done 0.81ms\n",
      "\u001b[1;30mINFO\u001b[0m:\u001b[34mDRV\u001b[0m:      Transferring probes.........Done 3.52ms\n",
      "\u001b[1;30mINFO\u001b[0m:\u001b[34mDRV\u001b[0m:      Configuring registers.......Done 4.58ms\n",
      "\u001b[1;30mINFO\u001b[0m:\u001b[34mDRV\u001b[0m:      Transferring spikes.........Done 3.14ms\n",
      "\u001b[1;30mINFO\u001b[0m:\u001b[34mDRV\u001b[0m:      Executing...................Done 2.65ms\n",
      "\u001b[1;30mINFO\u001b[0m:\u001b[34mDRV\u001b[0m:      Processing timeseries.......Done 2.90ms\n",
      "\u001b[1;30mINFO\u001b[0m:\u001b[34mDRV\u001b[0m:  Executor: 16 timesteps..........Done 2.56s\n",
      "\u001b[1;30mINFO\u001b[0m:\u001b[34mHST\u001b[0m:  chip=0 cpu=0 halted, status=0x0\n"
     ]
    }
   ],
   "source": [
    "net.run(time)\n",
    "net.disconnect()"
   ]
  },
  {
   "cell_type": "markdown",
   "metadata": {},
   "source": [
    "Now, we can inspect the output and show that indeed, one unique spike is generated for each state-action pair which is encountered in the input."
   ]
  },
  {
   "cell_type": "code",
   "execution_count": 12,
   "metadata": {},
   "outputs": [
    {
     "data": {
      "text/plain": [
       "<matplotlib.collections.PolyCollection at 0x7f28050c4e48>"
      ]
     },
     "execution_count": 12,
     "metadata": {},
     "output_type": "execute_result"
    },
    {
     "data": {
      "image/png": "[encoded data removed]",
      "text/plain": [
       "<Figure size 432x288 with 1 Axes>"
      ]
     },
     "metadata": {
      "needs_background": "light"
     },
     "output_type": "display_data"
    }
   ],
   "source": [
    "plt.pcolor(out_spikes[0].data)"
   ]
  },
  {
   "cell_type": "markdown",
   "metadata": {},
   "source": [
    "To demonstrate the flexibility of the system, we can combine everything into one function and show it can automatically generate the desired network while using flexible, readable code."
   ]
  },
  {
   "cell_type": "code",
   "execution_count": 13,
   "metadata": {},
   "outputs": [],
   "source": [
    "def test_and_net(n_states, n_actions):\n",
    "    #set parameters\n",
    "    n_estimates = n_states * n_actions\n",
    "    shape = (n_actions, n_states)\n",
    "    time = n_estimates+1\n",
    "    \n",
    "    #construct the network\n",
    "    agent = DummyAgent(n_actions, n_states)\n",
    "    net = agent.network\n",
    "    \n",
    "    state = net.createSpikeGenProcess(numPorts = n_states)\n",
    "    action = net.createSpikeGenProcess(numPorts = n_actions)\n",
    "    create_spikes(state, action, time)\n",
    "    \n",
    "    and_op = AndNode(net, shape)\n",
    "    \n",
    "    action_conn = dense_along_axis(action, (n_actions,1), 0,\n",
    "                              and_op.get_inputs(), and_op.shape, 0,\n",
    "                             and_op.get_synproto())\n",
    "    \n",
    "    state_conn = dense_along_axis(state, (n_states,1), 0,\n",
    "                              and_op.get_inputs(), and_op.shape, 1,\n",
    "                             and_op.get_synproto())\n",
    "    \n",
    "    #define outputs & test\n",
    "    output = and_op.get_outputs()\n",
    "    out_spikes = output.probe(nx.ProbeParameter.SPIKE)\n",
    "    \n",
    "    net.run(time)\n",
    "    net.disconnect()\n",
    "    \n",
    "    return out_spikes[0].data"
   ]
  },
  {
   "cell_type": "code",
   "execution_count": 14,
   "metadata": {},
   "outputs": [
    {
     "name": "stdout",
     "output_type": "stream",
     "text": [
      "\u001b[1;30mINFO\u001b[0m:\u001b[34mDRV\u001b[0m:  SLURM is being run in background\n",
      "\u001b[1;30mINFO\u001b[0m:\u001b[34mDRV\u001b[0m:  Connecting to 10.212.98.106:45753\n",
      "\u001b[1;30mINFO\u001b[0m:\u001b[34mDRV\u001b[0m:      Host server up..............Done 0.18s\n",
      "\u001b[1;30mINFO\u001b[0m:\u001b[34mDRV\u001b[0m:      Encoding axons/synapses.....Done 3.99ms\n",
      "\u001b[1;30mINFO\u001b[0m:\u001b[34mDRV\u001b[0m:      Compiling Embedded snips....Done 0.28s\n",
      "\u001b[1;30mINFO\u001b[0m:\u001b[34mHST\u001b[0m:  Args chip=0 cpu=0 /homes/wolin/python3_venv/lib/python3.5/site-packages/nxsdk/driver/compilers/../../../temp/1599605675.379413/launcher_chip0_lmt0.bin --chips=1 --remote-relay=1 --epoch=0 \n",
      "\u001b[1;30mINFO\u001b[0m:\u001b[34mHST\u001b[0m:  Lakemont_driver...\n",
      "\u001b[1;30mINFO\u001b[0m:\u001b[34mDRV\u001b[0m:      Booting up..................Done 2.02s\n",
      "\u001b[1;30mINFO\u001b[0m:\u001b[34mDRV\u001b[0m:      Encoding probes.............Done 1.03ms\n",
      "\u001b[1;30mINFO\u001b[0m:\u001b[34mDRV\u001b[0m:      Transferring probes.........Done 4.49ms\n",
      "\u001b[1;30mINFO\u001b[0m:\u001b[34mDRV\u001b[0m:      Configuring registers.......Done 5.49ms\n",
      "\u001b[1;30mINFO\u001b[0m:\u001b[34mDRV\u001b[0m:      Transferring spikes.........Done 3.02ms\n",
      "\u001b[1;30mINFO\u001b[0m:\u001b[34mDRV\u001b[0m:      Executing...................Done 3.26ms\n",
      "\u001b[1;30mINFO\u001b[0m:\u001b[34mDRV\u001b[0m:      Processing timeseries.......Done 3.08ms\n",
      "\u001b[1;30mINFO\u001b[0m:\u001b[34mDRV\u001b[0m:  Executor: 25 timesteps..........Done 2.53s\n",
      "\u001b[1;30mINFO\u001b[0m:\u001b[34mHST\u001b[0m:  chip=0 cpu=0 halted, status=0x0\n"
     ]
    }
   ],
   "source": [
    "ex_4x6 = test_and_net(4,6)"
   ]
  },
  {
   "cell_type": "code",
   "execution_count": 15,
   "metadata": {},
   "outputs": [
    {
     "data": {
      "text/plain": [
       "<matplotlib.collections.PolyCollection at 0x7f28050112e8>"
      ]
     },
     "execution_count": 15,
     "metadata": {},
     "output_type": "execute_result"
    },
    {
     "data": {
      "image/png": "[encoded data removed]",
      "text/plain": [
       "<Figure size 432x288 with 1 Axes>"
      ]
     },
     "metadata": {
      "needs_background": "light"
     },
     "output_type": "display_data"
    }
   ],
   "source": [
    "plt.pcolor(ex_4x6)"
   ]
  },
  {
   "cell_type": "code",
   "execution_count": null,
   "metadata": {},
   "outputs": [],
   "source": []
  }
 ],
 "metadata": {
  "kernelspec": {
   "display_name": "Python 3",
   "language": "python",
   "name": "python3"
  },
  "language_info": {
   "codemirror_mode": {
    "name": "ipython",
    "version": 3
   },
   "file_extension": ".py",
   "mimetype": "text/x-python",
   "name": "python",
   "nbconvert_exporter": "python",
   "pygments_lexer": "ipython3",
   "version": "3.5.2"
  }
 },
 "nbformat": 4,
 "nbformat_minor": 2
}
