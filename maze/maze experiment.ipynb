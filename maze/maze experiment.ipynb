{
 "cells": [
  {
   "cell_type": "markdown",
   "metadata": {},
   "source": [
    "# Demonstration of Maze task using Agent Framework"
   ]
  },
  {
   "cell_type": "code",
   "execution_count": 1,
   "metadata": {},
   "outputs": [],
   "source": [
    "import nxsdk.api.n2a as nx\n",
    "import os\n",
    "import matplotlib.pyplot as plt\n",
    "import numpy as np\n",
    "import sys\n",
    "import pandas as pd"
   ]
  },
  {
   "cell_type": "code",
   "execution_count": 2,
   "metadata": {},
   "outputs": [],
   "source": [
    "from gridAgent import *\n",
    "from analysis_functions import *"
   ]
  },
  {
   "cell_type": "markdown",
   "metadata": {},
   "source": [
    "Here we define the problem parameters: our agent navigates through a 5 x 5 grid in 2-D. The default location of the reward is the center of the environment (2,2). If it reaches this within a lifespan, it receives a reward. Otherwise, it is punished and re-initialized at a random location."
   ]
  },
  {
   "cell_type": "code",
   "execution_count": 3,
   "metadata": {},
   "outputs": [],
   "source": [
    "grid_x = 5\n",
    "grid_y = 5\n",
    "reward_location = (2,2)\n",
    "lifespan = 8\n",
    "dimensions = 2\n",
    "\n",
    "n_states = grid_x * grid_y\n",
    "n_actions = 4\n",
    "n_estimates = n_states * n_actions\n",
    "n_replicates = 2"
   ]
  },
  {
   "cell_type": "code",
   "execution_count": 4,
   "metadata": {},
   "outputs": [],
   "source": [
    "t_epoch = 128\n",
    "n_steps = 3000"
   ]
  },
  {
   "cell_type": "code",
   "execution_count": 5,
   "metadata": {
    "scrolled": false
   },
   "outputs": [],
   "source": [
    "agent = GridAgent(n_epochs=n_steps, n_replicates=n_replicates, reward_location=reward_location, lifespan=lifespan)"
   ]
  },
  {
   "cell_type": "markdown",
   "metadata": {},
   "source": [
    "The agent exists on a 2-D toroid which it can move across using the cardinal directions (North, East, South, West). However, by default is constructed with 'walls' to force it into a rectangular environment. To do this, transitions from the outermost to innermost poloidal (N-S) and toroidal (E-W) points are forbidden (e.g. the agent cannot move E from location (4,0) and end up in (0,0)). \n",
    "\n",
    "Users can specify new 'walls' by appending them to the agent.walls list and calling agent.set_valid_transitions(). This reads the list of walls and updates the transitions forbidden to the agent."
   ]
  },
  {
   "cell_type": "code",
   "execution_count": 6,
   "metadata": {},
   "outputs": [
    {
     "data": {
      "text/plain": [
       "[(0, 4, 'north'),\n",
       " (4, 0, 'east'),\n",
       " (1, 4, 'north'),\n",
       " (4, 1, 'east'),\n",
       " (2, 4, 'north'),\n",
       " (4, 2, 'east'),\n",
       " (3, 4, 'north'),\n",
       " (4, 3, 'east'),\n",
       " (4, 4, 'north'),\n",
       " (4, 4, 'east')]"
      ]
     },
     "execution_count": 6,
     "metadata": {},
     "output_type": "execute_result"
    }
   ],
   "source": [
    "agent.walls"
   ]
  },
  {
   "cell_type": "code",
   "execution_count": 7,
   "metadata": {},
   "outputs": [
    {
     "data": {
      "text/plain": [
       "array([[[1, 1, 1, 1, 0],\n",
       "        [1, 1, 1, 1, 0],\n",
       "        [1, 1, 1, 1, 0],\n",
       "        [1, 1, 1, 1, 0],\n",
       "        [1, 1, 1, 1, 0]],\n",
       "\n",
       "       [[1, 1, 1, 1, 1],\n",
       "        [1, 1, 1, 1, 1],\n",
       "        [1, 1, 1, 1, 1],\n",
       "        [1, 1, 1, 1, 1],\n",
       "        [0, 0, 0, 0, 0]]])"
      ]
     },
     "execution_count": 7,
     "metadata": {},
     "output_type": "execute_result"
    }
   ],
   "source": [
    "#default walls create a rectangular environment\n",
    "agent.transitions"
   ]
  },
  {
   "cell_type": "code",
   "execution_count": 8,
   "metadata": {
    "scrolled": false
   },
   "outputs": [
    {
     "name": "stdout",
     "output_type": "stream",
     "text": [
      "\u001b[1;30mWARNING\u001b[0m:\u001b[34mDRV\u001b[0m:  \u001b[33melementType would be deprecated in 0.9 in favor of messageSize, which provides more flexibility\u001b[0m\n",
      "\u001b[1;30mWARNING\u001b[0m:\u001b[34mDRV\u001b[0m:  \u001b[33melementType would be deprecated in 0.9 in favor of messageSize, which provides more flexibility\u001b[0m\n",
      "\u001b[1;30mWARNING\u001b[0m:\u001b[34mDRV\u001b[0m:  \u001b[33melementType would be deprecated in 0.9 in favor of messageSize, which provides more flexibility\u001b[0m\n",
      "\u001b[1;30mWARNING\u001b[0m:\u001b[34mDRV\u001b[0m:  \u001b[33melementType would be deprecated in 0.9 in favor of messageSize, which provides more flexibility\u001b[0m\n",
      "\u001b[1;30mWARNING\u001b[0m:\u001b[34mDRV\u001b[0m:  \u001b[33melementType would be deprecated in 0.9 in favor of messageSize, which provides more flexibility\u001b[0m\n",
      "\u001b[1;30mINFO\u001b[0m:\u001b[34mDRV\u001b[0m:  SLURM is being run in background\n",
      "\u001b[1;30mINFO\u001b[0m:\u001b[34mDRV\u001b[0m:  Connecting to 10.212.98.106:39631\n",
      "\u001b[1;30mINFO\u001b[0m:\u001b[34mDRV\u001b[0m:      Host server up..............Done 0.34s\n",
      "\u001b[1;30mINFO\u001b[0m:\u001b[34mDRV\u001b[0m:      Compiling Embedded snips....Done 0.45s\n",
      "\u001b[1;30mINFO\u001b[0m:\u001b[34mDRV\u001b[0m:      Encoding axons/synapses.....Done 0.33s\n",
      "\u001b[1;30mINFO\u001b[0m:\u001b[34mHST\u001b[0m:  Args chip=0 cpu=0 /homes/wolin/python3_venv/lib/python3.5/site-packages/nxsdk/driver/compilers/../../../temp/1599250663.982668/launcher_chip0_lmt0.bin --chips=1 --remote-relay=1 --epoch=0 \n",
      "\u001b[1;30mINFO\u001b[0m:\u001b[34mDRV\u001b[0m:      Booting up..................Done 2.03s\n",
      "\u001b[1;30mINFO\u001b[0m:\u001b[34mHST\u001b[0m:  Lakemont_driver...\n",
      "\u001b[1;30mINFO\u001b[0m:\u001b[34mDRV\u001b[0m:      Encoding probes.............Done 1.31ms\n",
      "\u001b[1;30mINFO\u001b[0m:\u001b[34mDRV\u001b[0m:      Transferring probes.........Done 3.29ms\n",
      "\u001b[1;30mINFO\u001b[0m:\u001b[34mDRV\u001b[0m:      Configuring registers.......Done 0.13s\n",
      "\u001b[1;30mINFO\u001b[0m:\u001b[34mDRV\u001b[0m:      Transferring spikes.........Done 0.98ms\n",
      "\u001b[1;30mINFO\u001b[0m:\u001b[34mHST\u001b[0m:  chip=0 cpu=0 Setting up...\n",
      "\u001b[1;30mINFO\u001b[0m:\u001b[34mHST\u001b[0m:  chip=0 cpu=0 Got variables\n",
      "\u001b[1;30mINFO\u001b[0m:\u001b[34mHST\u001b[0m:  chip=0 cpu=0 Got R/P/State/Condition compartments\n",
      "\u001b[1;30mINFO\u001b[0m:\u001b[34mHST\u001b[0m:  chip=0 cpu=0 Got Counter compartments\n",
      "\u001b[1;30mINFO\u001b[0m:\u001b[34mHST\u001b[0m:  chip=0 cpu=0 Got estimate locs & values, done.\n",
      "\u001b[1;30mINFO\u001b[0m:\u001b[34mDRV\u001b[0m:      Executing...................Done 7.20s\n",
      "\u001b[1;30mINFO\u001b[0m:\u001b[34mDRV\u001b[0m:      Processing timeseries.......Done 0.89ms\n",
      "\u001b[1;30mINFO\u001b[0m:\u001b[34mDRV\u001b[0m:  Executor: 384000 timesteps......Done 7.35s\n",
      "\u001b[1;30mINFO\u001b[0m:\u001b[34mHST\u001b[0m:  chip=0 cpu=0 halted, status=0x0\n"
     ]
    }
   ],
   "source": [
    "results = []\n",
    "runs = 1\n",
    "for i in range(runs):\n",
    "    results.append(agent.run())\n",
    "agent.board.disconnect()"
   ]
  },
  {
   "cell_type": "markdown",
   "metadata": {},
   "source": [
    "Now, we can read out the data which shows the agent navigating through the environment."
   ]
  },
  {
   "cell_type": "code",
   "execution_count": 9,
   "metadata": {},
   "outputs": [],
   "source": [
    "hist = read_history(results[-1][0])"
   ]
  },
  {
   "cell_type": "markdown",
   "metadata": {},
   "source": [
    "From this table, we can check the movements which the agent made at any point during the test and where it ended up."
   ]
  },
  {
   "cell_type": "code",
   "execution_count": 10,
   "metadata": {},
   "outputs": [
    {
     "data": {
      "text/html": [
       "<div>\n",
       "<style scoped>\n",
       "    .dataframe tbody tr th:only-of-type {\n",
       "        vertical-align: middle;\n",
       "    }\n",
       "\n",
       "    .dataframe tbody tr th {\n",
       "        vertical-align: top;\n",
       "    }\n",
       "\n",
       "    .dataframe thead th {\n",
       "        text-align: right;\n",
       "    }\n",
       "</style>\n",
       "<table border=\"1\" class=\"dataframe\">\n",
       "  <thead>\n",
       "    <tr style=\"text-align: right;\">\n",
       "      <th></th>\n",
       "      <th>Action</th>\n",
       "      <th>X</th>\n",
       "      <th>Y</th>\n",
       "    </tr>\n",
       "  </thead>\n",
       "  <tbody>\n",
       "    <tr>\n",
       "      <th>100</th>\n",
       "      <td>W</td>\n",
       "      <td>3</td>\n",
       "      <td>0</td>\n",
       "    </tr>\n",
       "    <tr>\n",
       "      <th>101</th>\n",
       "      <td>S</td>\n",
       "      <td>2</td>\n",
       "      <td>0</td>\n",
       "    </tr>\n",
       "    <tr>\n",
       "      <th>102</th>\n",
       "      <td>S</td>\n",
       "      <td>2</td>\n",
       "      <td>0</td>\n",
       "    </tr>\n",
       "    <tr>\n",
       "      <th>103</th>\n",
       "      <td>S</td>\n",
       "      <td>2</td>\n",
       "      <td>0</td>\n",
       "    </tr>\n",
       "    <tr>\n",
       "      <th>104</th>\n",
       "      <td>S</td>\n",
       "      <td>2</td>\n",
       "      <td>0</td>\n",
       "    </tr>\n",
       "    <tr>\n",
       "      <th>105</th>\n",
       "      <td>S</td>\n",
       "      <td>2</td>\n",
       "      <td>0</td>\n",
       "    </tr>\n",
       "    <tr>\n",
       "      <th>106</th>\n",
       "      <td>W</td>\n",
       "      <td>3</td>\n",
       "      <td>4</td>\n",
       "    </tr>\n",
       "    <tr>\n",
       "      <th>107</th>\n",
       "      <td>S</td>\n",
       "      <td>2</td>\n",
       "      <td>4</td>\n",
       "    </tr>\n",
       "    <tr>\n",
       "      <th>108</th>\n",
       "      <td>S</td>\n",
       "      <td>2</td>\n",
       "      <td>3</td>\n",
       "    </tr>\n",
       "    <tr>\n",
       "      <th>109</th>\n",
       "      <td>E</td>\n",
       "      <td>3</td>\n",
       "      <td>0</td>\n",
       "    </tr>\n",
       "  </tbody>\n",
       "</table>\n",
       "</div>"
      ],
      "text/plain": [
       "    Action  X  Y\n",
       "100      W  3  0\n",
       "101      S  2  0\n",
       "102      S  2  0\n",
       "103      S  2  0\n",
       "104      S  2  0\n",
       "105      S  2  0\n",
       "106      W  3  4\n",
       "107      S  2  4\n",
       "108      S  2  3\n",
       "109      E  3  0"
      ]
     },
     "execution_count": 10,
     "metadata": {},
     "output_type": "execute_result"
    }
   ],
   "source": [
    "hist[100:110]"
   ]
  },
  {
   "cell_type": "markdown",
   "metadata": {},
   "source": [
    "We can calculate the rewards the agent receives during navigation and use this to estimates its progress towards learning an optimal policy."
   ]
  },
  {
   "cell_type": "code",
   "execution_count": 11,
   "metadata": {},
   "outputs": [],
   "source": [
    "rewards = results[-1][1]\n",
    "rwd_inds = rewards != 0\n",
    "returns = rewards[rwd_inds]"
   ]
  },
  {
   "cell_type": "code",
   "execution_count": 12,
   "metadata": {},
   "outputs": [
    {
     "data": {
      "text/plain": [
       "Text(0,0.5,'Average Reward over 100 Epochs')"
      ]
     },
     "execution_count": 12,
     "metadata": {},
     "output_type": "execute_result"
    },
    {
     "data": {
      "image/png": "[encoded data removed]",
      "text/plain": [
       "<Figure size 432x288 with 1 Axes>"
      ]
     },
     "metadata": {
      "needs_background": "light"
     },
     "output_type": "display_data"
    }
   ],
   "source": [
    "plt.plot(np.convolve(returns, np.ones(100),mode='valid')/100)\n",
    "plt.xlabel(\"Epochs\")\n",
    "plt.ylabel(\"Average Reward over 100 Epochs\")"
   ]
  },
  {
   "cell_type": "markdown",
   "metadata": {},
   "source": [
    "By visualizing the greedy policy formed from the value estimates, we can see that the agent has indeed found an optimal policy. (Here, multiple optimal policies exist due to the length of the path taken not being considered). Following the policy seen below allows the agent to navigate to the reward from any position in the grid within the lifespan (8 steps)."
   ]
  },
  {
   "cell_type": "code",
   "execution_count": 13,
   "metadata": {},
   "outputs": [
    {
     "data": {
      "image/png": "[encoded data removed]",
      "text/plain": [
       "<Figure size 1000x1000 with 1 Axes>"
      ]
     },
     "metadata": {
      "needs_background": "light"
     },
     "output_type": "display_data"
    }
   ],
   "source": [
    "plot_values(agent.final_estimates, greedy=True)"
   ]
  }
 ],
 "metadata": {
  "kernelspec": {
   "display_name": "Python 3",
   "language": "python",
   "name": "python3"
  },
  "language_info": {
   "codemirror_mode": {
    "name": "ipython",
    "version": 3
   },
   "file_extension": ".py",
   "mimetype": "text/x-python",
   "name": "python",
   "nbconvert_exporter": "python",
   "pygments_lexer": "ipython3",
   "version": "3.5.2"
  }
 },
 "nbformat": 4,
 "nbformat_minor": 2
}
