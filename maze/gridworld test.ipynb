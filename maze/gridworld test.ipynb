{
 "cells": [
  {
   "cell_type": "code",
   "execution_count": 1,
   "metadata": {},
   "outputs": [],
   "source": [
    "import nxsdk.api.n2a as nx\n",
    "import os\n",
    "import matplotlib.pyplot as plt\n",
    "import numpy as np\n",
    "import sys"
   ]
  },
  {
   "cell_type": "code",
   "execution_count": 2,
   "metadata": {},
   "outputs": [],
   "source": [
    "from gridAgent import *"
   ]
  },
  {
   "cell_type": "code",
   "execution_count": 3,
   "metadata": {},
   "outputs": [],
   "source": [
    "grid_x = 5\n",
    "grid_y = 5\n",
    "dimensions = 2\n",
    "\n",
    "n_states = grid_x * grid_y\n",
    "n_actions = 4\n",
    "n_estimates = n_states * n_actions"
   ]
  },
  {
   "cell_type": "code",
   "execution_count": 4,
   "metadata": {},
   "outputs": [
    {
     "data": {
      "text/plain": [
       "100"
      ]
     },
     "execution_count": 4,
     "metadata": {},
     "output_type": "execute_result"
    }
   ],
   "source": [
    "n_estimates"
   ]
  },
  {
   "cell_type": "code",
   "execution_count": 5,
   "metadata": {},
   "outputs": [],
   "source": [
    "t_epoch = 50\n",
    "n_epochs = 100"
   ]
  },
  {
   "cell_type": "code",
   "execution_count": 6,
   "metadata": {
    "scrolled": false
   },
   "outputs": [],
   "source": [
    "agent = GridAgent(n_epochs=n_epochs, debug=True)"
   ]
  },
  {
   "cell_type": "code",
   "execution_count": 7,
   "metadata": {},
   "outputs": [
    {
     "data": {
      "text/plain": [
       "{'feedback_delay': <primitives.OrNode at 0x7f8d307ef470>,\n",
       " 'feedback_sum': <primitives.OrNode at 0x7f8d30853828>,\n",
       " 'filter': <primitives.AndNode at 0x7f8d3085f278>,\n",
       " 'punishment_buffer': <primitives.OrNode at 0x7f8d307ef048>,\n",
       " 'punishment_gate': <primitives.AndNode at 0x7f8d30853ac8>,\n",
       " 'reward_buffer': <primitives.OrNode at 0x7f8d307efef0>,\n",
       " 'reward_gate': <primitives.AndNode at 0x7f8d307ef9e8>,\n",
       " 'state_memory': <primitives.FlipFlopNode at 0x7f8d3085fbe0>}"
      ]
     },
     "execution_count": 7,
     "metadata": {},
     "output_type": "execute_result"
    }
   ],
   "source": [
    "agent.hippocampus.blocks"
   ]
  },
  {
   "cell_type": "code",
   "execution_count": 8,
   "metadata": {},
   "outputs": [],
   "source": [
    "#dec_spks = agent.decoder.get_outputs().probe(nx.ProbeParameter.SPIKE)"
   ]
  },
  {
   "cell_type": "code",
   "execution_count": 9,
   "metadata": {},
   "outputs": [],
   "source": [
    "#enc_spks = agent.encoder.get_outputs().probe(nx.ProbeParameter.SPIKE)"
   ]
  },
  {
   "cell_type": "code",
   "execution_count": 10,
   "metadata": {},
   "outputs": [],
   "source": [
    "#hc_spks = agent.hippocampus.blocks['state_memory'].get_outputs().probe(nx.ProbeParameter.SPIKE)"
   ]
  },
  {
   "cell_type": "code",
   "execution_count": 11,
   "metadata": {},
   "outputs": [],
   "source": [
    "ctx_spks = agent.cortex.get_outputs().probe(nx.ProbeParameter.SPIKE)"
   ]
  },
  {
   "cell_type": "code",
   "execution_count": 12,
   "metadata": {},
   "outputs": [
    {
     "data": {
      "text/plain": [
       "array([[[1, 1, 1, 1, 0],\n",
       "        [1, 1, 1, 1, 0],\n",
       "        [1, 1, 1, 1, 0],\n",
       "        [1, 1, 1, 1, 0],\n",
       "        [1, 1, 1, 1, 0]],\n",
       "\n",
       "       [[1, 1, 1, 1, 1],\n",
       "        [1, 1, 1, 1, 1],\n",
       "        [1, 1, 1, 1, 1],\n",
       "        [1, 1, 1, 1, 1],\n",
       "        [0, 0, 0, 0, 0]]])"
      ]
     },
     "execution_count": 12,
     "metadata": {},
     "output_type": "execute_result"
    }
   ],
   "source": [
    "agent.transitions"
   ]
  },
  {
   "cell_type": "code",
   "execution_count": 13,
   "metadata": {},
   "outputs": [
    {
     "data": {
      "text/plain": [
       "array([0, 0, 0, 0, 0])"
      ]
     },
     "execution_count": 13,
     "metadata": {},
     "output_type": "execute_result"
    }
   ],
   "source": [
    "agent.transitions[0,:,4]"
   ]
  },
  {
   "cell_type": "code",
   "execution_count": 14,
   "metadata": {},
   "outputs": [
    {
     "data": {
      "text/plain": [
       "array([0, 0, 0, 0, 0])"
      ]
     },
     "execution_count": 14,
     "metadata": {},
     "output_type": "execute_result"
    }
   ],
   "source": [
    "agent.transitions[1,4,:]"
   ]
  },
  {
   "cell_type": "code",
   "execution_count": 15,
   "metadata": {},
   "outputs": [],
   "source": [
    "net = agent.network"
   ]
  },
  {
   "cell_type": "code",
   "execution_count": 16,
   "metadata": {
    "scrolled": false
   },
   "outputs": [
    {
     "name": "stdout",
     "output_type": "stream",
     "text": [
      "\u001b[1;30mWARNING\u001b[0m:\u001b[34mDRV\u001b[0m:  \u001b[33melementType would be deprecated in 0.9 in favor of messageSize, which provides more flexibility\u001b[0m\n",
      "\u001b[1;30mWARNING\u001b[0m:\u001b[34mDRV\u001b[0m:  \u001b[33melementType would be deprecated in 0.9 in favor of messageSize, which provides more flexibility\u001b[0m\n",
      "\u001b[1;30mWARNING\u001b[0m:\u001b[34mDRV\u001b[0m:  \u001b[33melementType would be deprecated in 0.9 in favor of messageSize, which provides more flexibility\u001b[0m\n",
      "\u001b[1;30mWARNING\u001b[0m:\u001b[34mDRV\u001b[0m:  \u001b[33melementType would be deprecated in 0.9 in favor of messageSize, which provides more flexibility\u001b[0m\n",
      "\u001b[1;30mWARNING\u001b[0m:\u001b[34mDRV\u001b[0m:  \u001b[33melementType would be deprecated in 0.9 in favor of messageSize, which provides more flexibility\u001b[0m\n",
      "\u001b[1;30mINFO\u001b[0m:\u001b[34mDRV\u001b[0m:  SLURM is being run in background\n",
      "\u001b[1;30mINFO\u001b[0m:\u001b[34mDRV\u001b[0m:  Connecting to 10.212.98.106:43049\n",
      "\u001b[1;30mINFO\u001b[0m:\u001b[34mDRV\u001b[0m:      Host server up..............Done 0.19s\n",
      "\u001b[1;30mINFO\u001b[0m:\u001b[34mDRV\u001b[0m:      Encoding axons/synapses.....Done 0.23s\n",
      "\u001b[1;30mINFO\u001b[0m:\u001b[34mDRV\u001b[0m:      Compiling Embedded snips....Done 0.38s\n",
      "\u001b[1;30mINFO\u001b[0m:\u001b[34mHST\u001b[0m:  Args chip=0 cpu=0 /homes/wolin/python3_venv/lib/python3.5/site-packages/nxsdk/driver/compilers/../../../temp/1592438374.2577899/launcher_chip0_lmt0.bin --chips=1 --remote-relay=1 --epoch=0 \n",
      "\u001b[1;30mINFO\u001b[0m:\u001b[34mHST\u001b[0m:  Lakemont_driver...\n",
      "\u001b[1;30mINFO\u001b[0m:\u001b[34mDRV\u001b[0m:      Booting up..................Done 2.02s\n",
      "\u001b[1;30mINFO\u001b[0m:\u001b[34mDRV\u001b[0m:      Encoding probes.............Done 1.17ms\n",
      "\u001b[1;30mINFO\u001b[0m:\u001b[34mDRV\u001b[0m:      Transferring probes.........Done 4.65ms\n",
      "\u001b[1;30mINFO\u001b[0m:\u001b[34mDRV\u001b[0m:      Configuring registers.......Done 0.13s\n",
      "\u001b[1;30mINFO\u001b[0m:\u001b[34mDRV\u001b[0m:      Transferring spikes.........Done 1.09ms\n",
      "\u001b[1;30mINFO\u001b[0m:\u001b[34mHST\u001b[0m:  chip=0 cpu=0 0 1 2 3 4 5 6 7 8 9 10 11 12 13 14 15 16 17 18 19 20 21 22 23 24 0 1 2 3 4 5 6 7 8 9 10 11 12 13 14 15 16 17 18 19 20 21 22 23 24 \n",
      "\u001b[1;30mINFO\u001b[0m:\u001b[34mHST\u001b[0m:  chip=0 cpu=0 Setting up...\n",
      "\u001b[1;30mINFO\u001b[0m:\u001b[34mHST\u001b[0m:  chip=0 cpu=0 Got variables\n",
      "\u001b[1;30mINFO\u001b[0m:\u001b[34mHST\u001b[0m:  chip=0 cpu=0 Got R/P/State/Condition compartments\n",
      "\u001b[1;30mINFO\u001b[0m:\u001b[34mHST\u001b[0m:  chip=0 cpu=0 Got Counter compartments\n",
      "\u001b[1;30mINFO\u001b[0m:\u001b[34mHST\u001b[0m:  chip=0 cpu=0 Got estimate locs & values, done.\n",
      "\u001b[1;30mINFO\u001b[0m:\u001b[34mHST\u001b[0m:  chip=0 cpu=0 DEBUG: New episode started\n",
      "\u001b[1;30mINFO\u001b[0m:\u001b[34mHST\u001b[0m:  chip=0 cpu=0 DEBUG: X=1 Y=2\n",
      "\u001b[1;30mINFO\u001b[0m:\u001b[34mHST\u001b[0m:  chip=0 cpu=0 DEBUG: state 11 core 4 axon 1010 t1\n",
      "\u001b[1;30mINFO\u001b[0m:\u001b[34mHST\u001b[0m:  chip=0 cpu=0 DEBUG : action 0 core 4 axon 1024 t128\n",
      "\u001b[1;30mINFO\u001b[0m:\u001b[34mHST\u001b[0m:  chip=0 cpu=0 DEBUG: X=1 Y=3\n",
      "\u001b[1;30mINFO\u001b[0m:\u001b[34mHST\u001b[0m:  chip=0 cpu=0 DEBUG: state 16 core 4 axon 1015 t128\n",
      "\u001b[1;30mINFO\u001b[0m:\u001b[34mHST\u001b[0m:  chip=0 cpu=0 DEBUG : action 3 core 4 axon 1027 t256\n",
      "\u001b[1;30mINFO\u001b[0m:\u001b[34mHST\u001b[0m:  chip=0 cpu=0 DEBUG: X=0 Y=3\n",
      "\u001b[1;30mINFO\u001b[0m:\u001b[34mHST\u001b[0m:  chip=0 cpu=0 DEBUG: state 15 core 4 axon 1014 t256\n",
      "\u001b[1;30mINFO\u001b[0m:\u001b[34mHST\u001b[0m:  chip=0 cpu=0 DEBUG : action 3 core 4 axon 1027 t384\n",
      "\u001b[1;30mINFO\u001b[0m:\u001b[34mHST\u001b[0m:  chip=0 cpu=0 DEBUG: X=0 Y=3\n",
      "\u001b[1;30mINFO\u001b[0m:\u001b[34mHST\u001b[0m:  chip=0 cpu=0 DEBUG: state 15 core 4 axon 1014 t384\n",
      "\u001b[1;30mINFO\u001b[0m:\u001b[34mHST\u001b[0m:  chip=0 cpu=0 DEBUG : action 1 core 4 axon 1025 t512\n",
      "\u001b[1;30mINFO\u001b[0m:\u001b[34mHST\u001b[0m:  chip=0 cpu=0 DEBUG: X=1 Y=3\n",
      "\u001b[1;30mINFO\u001b[0m:\u001b[34mHST\u001b[0m:  chip=0 cpu=0 DEBUG: state 16 core 4 axon 1015 t512\n",
      "\u001b[1;30mINFO\u001b[0m:\u001b[34mHST\u001b[0m:  chip=0 cpu=0 DEBUG : action 3 core 4 axon 1027 t640\n",
      "\u001b[1;30mINFO\u001b[0m:\u001b[34mHST\u001b[0m:  chip=0 cpu=0 DEBUG: X=0 Y=3\n",
      "\u001b[1;30mINFO\u001b[0m:\u001b[34mHST\u001b[0m:  chip=0 cpu=0 DEBUG: state 15 core 4 axon 1014 t640\n",
      "\u001b[1;30mINFO\u001b[0m:\u001b[34mHST\u001b[0m:  chip=0 cpu=0 DEBUG : action 2 core 4 axon 1026 t768\n",
      "\u001b[1;30mINFO\u001b[0m:\u001b[34mHST\u001b[0m:  chip=0 cpu=0 DEBUG: X=0 Y=2\n",
      "\u001b[1;30mINFO\u001b[0m:\u001b[34mHST\u001b[0m:  chip=0 cpu=0 DEBUG: state 10 core 4 axon 1009 t768\n",
      "\u001b[1;30mINFO\u001b[0m:\u001b[34mHST\u001b[0m:  chip=0 cpu=0 DEBUG : action 3 core 4 axon 1027 t896\n",
      "\u001b[1;30mINFO\u001b[0m:\u001b[34mHST\u001b[0m:  chip=0 cpu=0 DEBUG: X=0 Y=2\n",
      "\u001b[1;30mINFO\u001b[0m:\u001b[34mHST\u001b[0m:  chip=0 cpu=0 DEBUG: state 10 core 4 axon 1009 t896\n",
      "\u001b[1;30mINFO\u001b[0m:\u001b[34mHST\u001b[0m:  chip=0 cpu=0 DEBUG : action 3 core 4 axon 1027 t1024\n",
      "\u001b[1;30mINFO\u001b[0m:\u001b[34mHST\u001b[0m:  chip=0 cpu=0 DEBUG: X=0 Y=2\n",
      "\u001b[1;30mINFO\u001b[0m:\u001b[34mHST\u001b[0m:  chip=0 cpu=0 DEBUG: state 10 core 4 axon 1009 t1024\n",
      "\u001b[1;30mINFO\u001b[0m:\u001b[34mHST\u001b[0m:  chip=0 cpu=0 DEBUG : action 3 core 4 axon 1027 t1152\n",
      "\u001b[1;30mINFO\u001b[0m:\u001b[34mHST\u001b[0m:  chip=0 cpu=0 DEBUG: X=0 Y=2\n",
      "\u001b[1;30mINFO\u001b[0m:\u001b[34mHST\u001b[0m:  chip=0 cpu=0 DEBUG: state 10 core 4 axon 1009 t1152\n",
      "\u001b[1;30mINFO\u001b[0m:\u001b[34mHST\u001b[0m:  chip=0 cpu=0 DEBUG : action 1 core 4 axon 1025 t1280\n",
      "\u001b[1;30mINFO\u001b[0m:\u001b[34mHST\u001b[0m:  chip=0 cpu=0 DEBUG: New episode started\n",
      "\u001b[1;30mINFO\u001b[0m:\u001b[34mHST\u001b[0m:  chip=0 cpu=0 DEBUG: punishment, core 5 axon 910 t1280\n",
      "\u001b[1;30mINFO\u001b[0m:\u001b[34mHST\u001b[0m:  chip=0 cpu=0 DEBUG: X=4 Y=0\n",
      "\u001b[1;30mINFO\u001b[0m:\u001b[34mHST\u001b[0m:  chip=0 cpu=0 DEBUG: state 4 core 4 axon 1003 t1280\n",
      "\u001b[1;30mINFO\u001b[0m:\u001b[34mHST\u001b[0m:  chip=0 cpu=0 DEBUG : action 3 core 4 axon 1027 t1408\n",
      "\u001b[1;30mINFO\u001b[0m:\u001b[34mHST\u001b[0m:  chip=0 cpu=0 DEBUG: X=3 Y=0\n",
      "\u001b[1;30mINFO\u001b[0m:\u001b[34mHST\u001b[0m:  chip=0 cpu=0 DEBUG: state 3 core 4 axon 1002 t1408\n",
      "\u001b[1;30mINFO\u001b[0m:\u001b[34mHST\u001b[0m:  chip=0 cpu=0 DEBUG : action 1 core 4 axon 1025 t1536\n",
      "\u001b[1;30mINFO\u001b[0m:\u001b[34mHST\u001b[0m:  chip=0 cpu=0 DEBUG: X=4 Y=0\n",
      "\u001b[1;30mINFO\u001b[0m:\u001b[34mHST\u001b[0m:  chip=0 cpu=0 DEBUG: state 4 core 4 axon 1003 t1536\n",
      "\u001b[1;30mINFO\u001b[0m:\u001b[34mHST\u001b[0m:  chip=0 cpu=0 DEBUG : action 1 core 4 axon 1025 t1664\n",
      "\u001b[1;30mINFO\u001b[0m:\u001b[34mHST\u001b[0m:  chip=0 cpu=0 DEBUG: X=4 Y=0\n",
      "\u001b[1;30mINFO\u001b[0m:\u001b[34mHST\u001b[0m:  chip=0 cpu=0 DEBUG: state 4 core 4 axon 1003 t1664\n",
      "\u001b[1;30mINFO\u001b[0m:\u001b[34mHST\u001b[0m:  chip=0 cpu=0 DEBUG : action 3 core 4 axon 1027 t1792\n",
      "\u001b[1;30mINFO\u001b[0m:\u001b[34mHST\u001b[0m:  chip=0 cpu=0 DEBUG: X=3 Y=0\n",
      "\u001b[1;30mINFO\u001b[0m:\u001b[34mHST\u001b[0m:  chip=0 cpu=0 DEBUG: state 3 core 4 axon 1002 t1792\n",
      "\u001b[1;30mINFO\u001b[0m:\u001b[34mHST\u001b[0m:  chip=0 cpu=0 DEBUG : action 2 core 4 axon 1026 t1920\n",
      "\u001b[1;30mINFO\u001b[0m:\u001b[34mHST\u001b[0m:  chip=0 cpu=0 DEBUG: X=3 Y=4\n",
      "\u001b[1;30mINFO\u001b[0m:\u001b[34mHST\u001b[0m:  chip=0 cpu=0 DEBUG: state 23 core 4 axon 1022 t1920\n",
      "\u001b[1;30mINFO\u001b[0m:\u001b[34mHST\u001b[0m:  chip=0 cpu=0 DEBUG : action 1 core 4 axon 1025 t2048\n",
      "\u001b[1;30mINFO\u001b[0m:\u001b[34mHST\u001b[0m:  chip=0 cpu=0 DEBUG: X=4 Y=4\n",
      "\u001b[1;30mINFO\u001b[0m:\u001b[34mHST\u001b[0m:  chip=0 cpu=0 DEBUG: state 24 core 4 axon 1023 t2048\n",
      "\u001b[1;30mINFO\u001b[0m:\u001b[34mHST\u001b[0m:  chip=0 cpu=0 DEBUG : action 1 core 4 axon 1025 t2176\n",
      "\u001b[1;30mINFO\u001b[0m:\u001b[34mHST\u001b[0m:  chip=0 cpu=0 DEBUG: X=4 Y=4\n",
      "\u001b[1;30mINFO\u001b[0m:\u001b[34mHST\u001b[0m:  chip=0 cpu=0 DEBUG: state 24 core 4 axon 1023 t2176\n",
      "\u001b[1;30mINFO\u001b[0m:\u001b[34mHST\u001b[0m:  chip=0 cpu=0 DEBUG : action 2 core 4 axon 1026 t2304\n",
      "\u001b[1;30mINFO\u001b[0m:\u001b[34mHST\u001b[0m:  chip=0 cpu=0 DEBUG: X=4 Y=4\n",
      "\u001b[1;30mINFO\u001b[0m:\u001b[34mHST\u001b[0m:  chip=0 cpu=0 DEBUG: state 24 core 4 axon 1023 t2304\n",
      "\u001b[1;30mINFO\u001b[0m:\u001b[34mHST\u001b[0m:  chip=0 cpu=0 DEBUG : action 2 core 4 axon 1026 t2432\n",
      "\u001b[1;30mINFO\u001b[0m:\u001b[34mHST\u001b[0m:  chip=0 cpu=0 DEBUG: New episode started\n",
      "\u001b[1;30mINFO\u001b[0m:\u001b[34mHST\u001b[0m:  chip=0 cpu=0 DEBUG: punishment, core 5 axon 910 t2432\n",
      "\u001b[1;30mINFO\u001b[0m:\u001b[34mHST\u001b[0m:  chip=0 cpu=0 DEBUG: X=1 Y=4\n",
      "\u001b[1;30mINFO\u001b[0m:\u001b[34mHST\u001b[0m:  chip=0 cpu=0 DEBUG: state 21 core 4 axon 1020 t2432\n",
      "\u001b[1;30mINFO\u001b[0m:\u001b[34mHST\u001b[0m:  chip=0 cpu=0 DEBUG : action 1 core 4 axon 1025 t2560\n",
      "\u001b[1;30mINFO\u001b[0m:\u001b[34mHST\u001b[0m:  chip=0 cpu=0 DEBUG: X=2 Y=4\n",
      "\u001b[1;30mINFO\u001b[0m:\u001b[34mHST\u001b[0m:  chip=0 cpu=0 DEBUG: state 22 core 4 axon 1021 t2560\n",
      "\u001b[1;30mINFO\u001b[0m:\u001b[34mHST\u001b[0m:  chip=0 cpu=0 DEBUG : action 0 core 4 axon 1024 t2688\n",
      "\u001b[1;30mINFO\u001b[0m:\u001b[34mHST\u001b[0m:  chip=0 cpu=0 DEBUG: X=2 Y=0\n",
      "\u001b[1;30mINFO\u001b[0m:\u001b[34mHST\u001b[0m:  chip=0 cpu=0 DEBUG: state 2 core 4 axon 1001 t2688\n",
      "\u001b[1;30mINFO\u001b[0m:\u001b[34mHST\u001b[0m:  chip=0 cpu=0 DEBUG : action 3 core 4 axon 1027 t2816\n",
      "\u001b[1;30mINFO\u001b[0m:\u001b[34mHST\u001b[0m:  chip=0 cpu=0 DEBUG: X=1 Y=0\n",
      "\u001b[1;30mINFO\u001b[0m:\u001b[34mHST\u001b[0m:  chip=0 cpu=0 DEBUG: state 1 core 4 axon 1000 t2816\n",
      "\u001b[1;30mINFO\u001b[0m:\u001b[34mHST\u001b[0m:  chip=0 cpu=0 DEBUG : action 2 core 4 axon 1026 t2944\n",
      "\u001b[1;30mINFO\u001b[0m:\u001b[34mHST\u001b[0m:  chip=0 cpu=0 DEBUG: X=1 Y=4\n",
      "\u001b[1;30mINFO\u001b[0m:\u001b[34mHST\u001b[0m:  chip=0 cpu=0 DEBUG: state 21 core 4 axon 1020 t2944\n",
      "\u001b[1;30mINFO\u001b[0m:\u001b[34mHST\u001b[0m:  chip=0 cpu=0 DEBUG : action 1 core 4 axon 1025 t3072\n",
      "\u001b[1;30mINFO\u001b[0m:\u001b[34mHST\u001b[0m:  chip=0 cpu=0 DEBUG: X=2 Y=4\n",
      "\u001b[1;30mINFO\u001b[0m:\u001b[34mHST\u001b[0m:  chip=0 cpu=0 DEBUG: state 22 core 4 axon 1021 t3072\n",
      "\u001b[1;30mINFO\u001b[0m:\u001b[34mHST\u001b[0m:  chip=0 cpu=0 DEBUG : action 3 core 4 axon 1027 t3200\n"
     ]
    },
    {
     "name": "stdout",
     "output_type": "stream",
     "text": [
      "\u001b[1;30mINFO\u001b[0m:\u001b[34mHST\u001b[0m:  chip=0 cpu=0 DEBUG: X=1 Y=4\n",
      "\u001b[1;30mINFO\u001b[0m:\u001b[34mHST\u001b[0m:  chip=0 cpu=0 DEBUG: state 21 core 4 axon 1020 t3200\n",
      "\u001b[1;30mINFO\u001b[0m:\u001b[34mHST\u001b[0m:  chip=0 cpu=0 DEBUG : action 2 core 4 axon 1026 t3328\n",
      "\u001b[1;30mINFO\u001b[0m:\u001b[34mHST\u001b[0m:  chip=0 cpu=0 DEBUG: X=1 Y=3\n",
      "\u001b[1;30mINFO\u001b[0m:\u001b[34mHST\u001b[0m:  chip=0 cpu=0 DEBUG: state 16 core 4 axon 1015 t3328\n",
      "\u001b[1;30mINFO\u001b[0m:\u001b[34mHST\u001b[0m:  chip=0 cpu=0 DEBUG : action 1 core 4 axon 1025 t3456\n",
      "\u001b[1;30mINFO\u001b[0m:\u001b[34mHST\u001b[0m:  chip=0 cpu=0 DEBUG: X=2 Y=3\n",
      "\u001b[1;30mINFO\u001b[0m:\u001b[34mHST\u001b[0m:  chip=0 cpu=0 DEBUG: state 17 core 4 axon 1016 t3456\n",
      "\u001b[1;30mINFO\u001b[0m:\u001b[34mHST\u001b[0m:  chip=0 cpu=0 DEBUG : action 3 core 4 axon 1027 t3584\n",
      "\u001b[1;30mINFO\u001b[0m:\u001b[34mHST\u001b[0m:  chip=0 cpu=0 DEBUG: New episode started\n",
      "\u001b[1;30mINFO\u001b[0m:\u001b[34mHST\u001b[0m:  chip=0 cpu=0 DEBUG: punishment, core 5 axon 910 t3584\n",
      "\u001b[1;30mINFO\u001b[0m:\u001b[34mHST\u001b[0m:  chip=0 cpu=0 DEBUG: X=3 Y=0\n",
      "\u001b[1;30mINFO\u001b[0m:\u001b[34mHST\u001b[0m:  chip=0 cpu=0 DEBUG: state 3 core 4 axon 1002 t3584\n",
      "\u001b[1;30mINFO\u001b[0m:\u001b[34mHST\u001b[0m:  chip=0 cpu=0 DEBUG : action 0 core 4 axon 1024 t3712\n",
      "\u001b[1;30mINFO\u001b[0m:\u001b[34mHST\u001b[0m:  chip=0 cpu=0 DEBUG: X=3 Y=1\n",
      "\u001b[1;30mINFO\u001b[0m:\u001b[34mHST\u001b[0m:  chip=0 cpu=0 DEBUG: state 8 core 4 axon 1007 t3712\n",
      "\u001b[1;30mINFO\u001b[0m:\u001b[34mHST\u001b[0m:  chip=0 cpu=0 DEBUG : action 0 core 4 axon 1024 t3840\n",
      "\u001b[1;30mINFO\u001b[0m:\u001b[34mHST\u001b[0m:  chip=0 cpu=0 DEBUG: X=3 Y=2\n",
      "\u001b[1;30mINFO\u001b[0m:\u001b[34mHST\u001b[0m:  chip=0 cpu=0 DEBUG: state 13 core 4 axon 1012 t3840\n",
      "\u001b[1;30mINFO\u001b[0m:\u001b[34mHST\u001b[0m:  chip=0 cpu=0 DEBUG : action 3 core 4 axon 1027 t3968\n",
      "\u001b[1;30mINFO\u001b[0m:\u001b[34mHST\u001b[0m:  chip=0 cpu=0 DEBUG: New episode started\n",
      "\u001b[1;30mINFO\u001b[0m:\u001b[34mHST\u001b[0m:  chip=0 cpu=0 DEBUG: reward, core 5 axon 909 t3968\n",
      "\u001b[1;30mINFO\u001b[0m:\u001b[34mHST\u001b[0m:  chip=0 cpu=0 DEBUG: X=2 Y=4\n",
      "\u001b[1;30mINFO\u001b[0m:\u001b[34mHST\u001b[0m:  chip=0 cpu=0 DEBUG: state 22 core 4 axon 1021 t3968\n",
      "\u001b[1;30mINFO\u001b[0m:\u001b[34mHST\u001b[0m:  chip=0 cpu=0 DEBUG : action 0 core 4 axon 1024 t4096\n",
      "\u001b[1;30mINFO\u001b[0m:\u001b[34mHST\u001b[0m:  chip=0 cpu=0 DEBUG: X=2 Y=0\n",
      "\u001b[1;30mINFO\u001b[0m:\u001b[34mHST\u001b[0m:  chip=0 cpu=0 DEBUG: state 2 core 4 axon 1001 t4096\n",
      "\u001b[1;30mINFO\u001b[0m:\u001b[34mHST\u001b[0m:  chip=0 cpu=0 DEBUG : action 1 core 4 axon 1025 t4224\n",
      "\u001b[1;30mINFO\u001b[0m:\u001b[34mHST\u001b[0m:  chip=0 cpu=0 DEBUG: X=3 Y=0\n",
      "\u001b[1;30mINFO\u001b[0m:\u001b[34mHST\u001b[0m:  chip=0 cpu=0 DEBUG: state 3 core 4 axon 1002 t4224\n",
      "\u001b[1;30mINFO\u001b[0m:\u001b[34mHST\u001b[0m:  chip=0 cpu=0 DEBUG : action 1 core 4 axon 1025 t4352\n",
      "\u001b[1;30mINFO\u001b[0m:\u001b[34mHST\u001b[0m:  chip=0 cpu=0 DEBUG: X=4 Y=0\n",
      "\u001b[1;30mINFO\u001b[0m:\u001b[34mHST\u001b[0m:  chip=0 cpu=0 DEBUG: state 4 core 4 axon 1003 t4352\n",
      "\u001b[1;30mINFO\u001b[0m:\u001b[34mHST\u001b[0m:  chip=0 cpu=0 DEBUG : action 0 core 4 axon 1024 t4480\n",
      "\u001b[1;30mINFO\u001b[0m:\u001b[34mHST\u001b[0m:  chip=0 cpu=0 DEBUG: X=4 Y=0\n",
      "\u001b[1;30mINFO\u001b[0m:\u001b[34mHST\u001b[0m:  chip=0 cpu=0 DEBUG: state 4 core 4 axon 1003 t4480\n",
      "\u001b[1;30mINFO\u001b[0m:\u001b[34mHST\u001b[0m:  chip=0 cpu=0 DEBUG : action 0 core 4 axon 1024 t4608\n",
      "\u001b[1;30mINFO\u001b[0m:\u001b[34mHST\u001b[0m:  chip=0 cpu=0 DEBUG: X=4 Y=0\n",
      "\u001b[1;30mINFO\u001b[0m:\u001b[34mHST\u001b[0m:  chip=0 cpu=0 DEBUG: state 4 core 4 axon 1003 t4608\n",
      "\u001b[1;30mINFO\u001b[0m:\u001b[34mHST\u001b[0m:  chip=0 cpu=0 DEBUG : action 2 core 4 axon 1026 t4736\n",
      "\u001b[1;30mINFO\u001b[0m:\u001b[34mHST\u001b[0m:  chip=0 cpu=0 DEBUG: X=4 Y=0\n",
      "\u001b[1;30mINFO\u001b[0m:\u001b[34mHST\u001b[0m:  chip=0 cpu=0 DEBUG: state 4 core 4 axon 1003 t4736\n",
      "\u001b[1;30mINFO\u001b[0m:\u001b[34mHST\u001b[0m:  chip=0 cpu=0 DEBUG : action 3 core 4 axon 1027 t4864\n",
      "\u001b[1;30mINFO\u001b[0m:\u001b[34mHST\u001b[0m:  chip=0 cpu=0 DEBUG: X=3 Y=0\n",
      "\u001b[1;30mINFO\u001b[0m:\u001b[34mHST\u001b[0m:  chip=0 cpu=0 DEBUG: state 3 core 4 axon 1002 t4864\n",
      "\u001b[1;30mINFO\u001b[0m:\u001b[34mHST\u001b[0m:  chip=0 cpu=0 DEBUG : action 0 core 4 axon 1024 t4992\n",
      "\u001b[1;30mINFO\u001b[0m:\u001b[34mHST\u001b[0m:  chip=0 cpu=0 DEBUG: X=3 Y=1\n",
      "\u001b[1;30mINFO\u001b[0m:\u001b[34mHST\u001b[0m:  chip=0 cpu=0 DEBUG: state 8 core 4 axon 1007 t4992\n",
      "\u001b[1;30mINFO\u001b[0m:\u001b[34mHST\u001b[0m:  chip=0 cpu=0 DEBUG : action 3 core 4 axon 1027 t5120\n",
      "\u001b[1;30mINFO\u001b[0m:\u001b[34mHST\u001b[0m:  chip=0 cpu=0 DEBUG: New episode started\n",
      "\u001b[1;30mINFO\u001b[0m:\u001b[34mHST\u001b[0m:  chip=0 cpu=0 DEBUG: punishment, core 5 axon 910 t5120\n",
      "\u001b[1;30mINFO\u001b[0m:\u001b[34mHST\u001b[0m:  chip=0 cpu=0 DEBUG: X=1 Y=1\n",
      "\u001b[1;30mINFO\u001b[0m:\u001b[34mHST\u001b[0m:  chip=0 cpu=0 DEBUG: state 6 core 4 axon 1005 t5120\n",
      "\u001b[1;30mINFO\u001b[0m:\u001b[34mHST\u001b[0m:  chip=0 cpu=0 DEBUG : action 3 core 4 axon 1027 t5248\n",
      "\u001b[1;30mINFO\u001b[0m:\u001b[34mHST\u001b[0m:  chip=0 cpu=0 DEBUG: X=0 Y=1\n",
      "\u001b[1;30mINFO\u001b[0m:\u001b[34mHST\u001b[0m:  chip=0 cpu=0 DEBUG: state 5 core 4 axon 1004 t5248\n",
      "\u001b[1;30mINFO\u001b[0m:\u001b[34mHST\u001b[0m:  chip=0 cpu=0 DEBUG : action 2 core 4 axon 1026 t5376\n",
      "\u001b[1;30mINFO\u001b[0m:\u001b[34mHST\u001b[0m:  chip=0 cpu=0 DEBUG: X=0 Y=0\n",
      "\u001b[1;30mINFO\u001b[0m:\u001b[34mHST\u001b[0m:  chip=0 cpu=0 DEBUG: state 0 core 4 axon 999 t5376\n",
      "\u001b[1;30mINFO\u001b[0m:\u001b[34mHST\u001b[0m:  chip=0 cpu=0 DEBUG : action 0 core 4 axon 1024 t5504\n",
      "\u001b[1;30mINFO\u001b[0m:\u001b[34mHST\u001b[0m:  chip=0 cpu=0 DEBUG: X=0 Y=1\n",
      "\u001b[1;30mINFO\u001b[0m:\u001b[34mHST\u001b[0m:  chip=0 cpu=0 DEBUG: state 5 core 4 axon 1004 t5504\n",
      "\u001b[1;30mINFO\u001b[0m:\u001b[34mHST\u001b[0m:  chip=0 cpu=0 DEBUG : action 1 core 4 axon 1025 t5632\n",
      "\u001b[1;30mINFO\u001b[0m:\u001b[34mHST\u001b[0m:  chip=0 cpu=0 DEBUG: X=1 Y=1\n",
      "\u001b[1;30mINFO\u001b[0m:\u001b[34mHST\u001b[0m:  chip=0 cpu=0 DEBUG: state 6 core 4 axon 1005 t5632\n",
      "\u001b[1;30mINFO\u001b[0m:\u001b[34mHST\u001b[0m:  chip=0 cpu=0 DEBUG : action 1 core 4 axon 1025 t5760\n",
      "\u001b[1;30mINFO\u001b[0m:\u001b[34mHST\u001b[0m:  chip=0 cpu=0 DEBUG: X=2 Y=1\n",
      "\u001b[1;30mINFO\u001b[0m:\u001b[34mHST\u001b[0m:  chip=0 cpu=0 DEBUG: state 7 core 4 axon 1006 t5760\n",
      "\u001b[1;30mINFO\u001b[0m:\u001b[34mHST\u001b[0m:  chip=0 cpu=0 DEBUG : action 3 core 4 axon 1027 t5888\n",
      "\u001b[1;30mINFO\u001b[0m:\u001b[34mHST\u001b[0m:  chip=0 cpu=0 DEBUG: X=1 Y=1\n",
      "\u001b[1;30mINFO\u001b[0m:\u001b[34mHST\u001b[0m:  chip=0 cpu=0 DEBUG: state 6 core 4 axon 1005 t5888\n",
      "\u001b[1;30mINFO\u001b[0m:\u001b[34mHST\u001b[0m:  chip=0 cpu=0 DEBUG : action 1 core 4 axon 1025 t6016\n",
      "\u001b[1;30mINFO\u001b[0m:\u001b[34mHST\u001b[0m:  chip=0 cpu=0 DEBUG: X=2 Y=1\n",
      "\u001b[1;30mINFO\u001b[0m:\u001b[34mHST\u001b[0m:  chip=0 cpu=0 DEBUG: state 7 core 4 axon 1006 t6016\n",
      "\u001b[1;30mINFO\u001b[0m:\u001b[34mHST\u001b[0m:  chip=0 cpu=0 DEBUG : action 1 core 4 axon 1025 t6144\n",
      "\u001b[1;30mINFO\u001b[0m:\u001b[34mHST\u001b[0m:  chip=0 cpu=0 DEBUG: X=3 Y=1\n",
      "\u001b[1;30mINFO\u001b[0m:\u001b[34mHST\u001b[0m:  chip=0 cpu=0 DEBUG: state 8 core 4 axon 1007 t6144\n",
      "\u001b[1;30mINFO\u001b[0m:\u001b[34mHST\u001b[0m:  chip=0 cpu=0 DEBUG : action 0 core 4 axon 1024 t6272\n",
      "\u001b[1;30mINFO\u001b[0m:\u001b[34mHST\u001b[0m:  chip=0 cpu=0 DEBUG: New episode started\n",
      "\u001b[1;30mINFO\u001b[0m:\u001b[34mHST\u001b[0m:  chip=0 cpu=0 DEBUG: punishment, core 5 axon 910 t6272\n",
      "\u001b[1;30mINFO\u001b[0m:\u001b[34mHST\u001b[0m:  chip=0 cpu=0 DEBUG: X=4 Y=3\n",
      "\u001b[1;30mINFO\u001b[0m:\u001b[34mHST\u001b[0m:  chip=0 cpu=0 DEBUG: state 19 core 4 axon 1018 t6272\n",
      "\u001b[1;30mINFO\u001b[0m:\u001b[34mHST\u001b[0m:  chip=0 cpu=0 DEBUG : action 0 core 4 axon 1024 t6400\n",
      "\u001b[1;30mINFO\u001b[0m:\u001b[34mHST\u001b[0m:  chip=0 cpu=0 DEBUG: X=4 Y=3\n",
      "\u001b[1;30mINFO\u001b[0m:\u001b[34mHST\u001b[0m:  chip=0 cpu=0 DEBUG: state 19 core 4 axon 1018 t6400\n",
      "\u001b[1;30mINFO\u001b[0m:\u001b[34mHST\u001b[0m:  chip=0 cpu=0 DEBUG : action 3 core 4 axon 1027 t6528\n",
      "\u001b[1;30mINFO\u001b[0m:\u001b[34mHST\u001b[0m:  chip=0 cpu=0 DEBUG: X=3 Y=3\n",
      "\u001b[1;30mINFO\u001b[0m:\u001b[34mHST\u001b[0m:  chip=0 cpu=0 DEBUG: state 18 core 4 axon 1017 t6528\n",
      "\u001b[1;30mINFO\u001b[0m:\u001b[34mHST\u001b[0m:  chip=0 cpu=0 DEBUG : action 2 core 4 axon 1026 t6656\n",
      "\u001b[1;30mINFO\u001b[0m:\u001b[34mHST\u001b[0m:  chip=0 cpu=0 DEBUG: X=3 Y=2\n",
      "\u001b[1;30mINFO\u001b[0m:\u001b[34mHST\u001b[0m:  chip=0 cpu=0 DEBUG: state 13 core 4 axon 1012 t6656\n",
      "\u001b[1;30mINFO\u001b[0m:\u001b[34mHST\u001b[0m:  chip=0 cpu=0 DEBUG : action 2 core 4 axon 1026 t6784\n",
      "\u001b[1;30mINFO\u001b[0m:\u001b[34mHST\u001b[0m:  chip=0 cpu=0 DEBUG: X=3 Y=1\n",
      "\u001b[1;30mINFO\u001b[0m:\u001b[34mHST\u001b[0m:  chip=0 cpu=0 DEBUG: state 8 core 4 axon 1007 t6784\n",
      "\u001b[1;30mINFO\u001b[0m:\u001b[34mHST\u001b[0m:  chip=0 cpu=0 DEBUG : action 2 core 4 axon 1026 t6912\n",
      "\u001b[1;30mINFO\u001b[0m:\u001b[34mHST\u001b[0m:  chip=0 cpu=0 DEBUG: X=3 Y=0\n",
      "\u001b[1;30mINFO\u001b[0m:\u001b[34mHST\u001b[0m:  chip=0 cpu=0 DEBUG: state 3 core 4 axon 1002 t6912\n",
      "\u001b[1;30mINFO\u001b[0m:\u001b[34mHST\u001b[0m:  chip=0 cpu=0 DEBUG : action 3 core 4 axon 1027 t7040\n",
      "\u001b[1;30mINFO\u001b[0m:\u001b[34mHST\u001b[0m:  chip=0 cpu=0 DEBUG: X=2 Y=0\n",
      "\u001b[1;30mINFO\u001b[0m:\u001b[34mHST\u001b[0m:  chip=0 cpu=0 DEBUG: state 2 core 4 axon 1001 t7040\n",
      "\u001b[1;30mINFO\u001b[0m:\u001b[34mHST\u001b[0m:  chip=0 cpu=0 DEBUG : action 0 core 4 axon 1024 t7168\n",
      "\u001b[1;30mINFO\u001b[0m:\u001b[34mHST\u001b[0m:  chip=0 cpu=0 DEBUG: X=2 Y=1\n",
      "\u001b[1;30mINFO\u001b[0m:\u001b[34mHST\u001b[0m:  chip=0 cpu=0 DEBUG: state 7 core 4 axon 1006 t7168\n",
      "\u001b[1;30mINFO\u001b[0m:\u001b[34mHST\u001b[0m:  chip=0 cpu=0 DEBUG : action 0 core 4 axon 1024 t7296\n",
      "\u001b[1;30mINFO\u001b[0m:\u001b[34mHST\u001b[0m:  chip=0 cpu=0 DEBUG: New episode started\n",
      "\u001b[1;30mINFO\u001b[0m:\u001b[34mHST\u001b[0m:  chip=0 cpu=0 DEBUG: reward, core 5 axon 909 t7296\n",
      "\u001b[1;30mINFO\u001b[0m:\u001b[34mHST\u001b[0m:  chip=0 cpu=0 DEBUG: X=1 Y=1\n",
      "\u001b[1;30mINFO\u001b[0m:\u001b[34mHST\u001b[0m:  chip=0 cpu=0 DEBUG: state 6 core 4 axon 1005 t7296\n",
      "\u001b[1;30mINFO\u001b[0m:\u001b[34mHST\u001b[0m:  chip=0 cpu=0 DEBUG : action 2 core 4 axon 1026 t7424\n"
     ]
    },
    {
     "name": "stdout",
     "output_type": "stream",
     "text": [
      "\u001b[1;30mINFO\u001b[0m:\u001b[34mHST\u001b[0m:  chip=0 cpu=0 DEBUG: X=1 Y=0\n",
      "\u001b[1;30mINFO\u001b[0m:\u001b[34mHST\u001b[0m:  chip=0 cpu=0 DEBUG: state 1 core 4 axon 1000 t7424\n",
      "\u001b[1;30mINFO\u001b[0m:\u001b[34mHST\u001b[0m:  chip=0 cpu=0 DEBUG : action 0 core 4 axon 1024 t7552\n",
      "\u001b[1;30mINFO\u001b[0m:\u001b[34mHST\u001b[0m:  chip=0 cpu=0 DEBUG: X=1 Y=1\n",
      "\u001b[1;30mINFO\u001b[0m:\u001b[34mHST\u001b[0m:  chip=0 cpu=0 DEBUG: state 6 core 4 axon 1005 t7552\n",
      "\u001b[1;30mINFO\u001b[0m:\u001b[34mHST\u001b[0m:  chip=0 cpu=0 DEBUG : action 2 core 4 axon 1026 t7680\n",
      "\u001b[1;30mINFO\u001b[0m:\u001b[34mHST\u001b[0m:  chip=0 cpu=0 DEBUG: X=1 Y=0\n",
      "\u001b[1;30mINFO\u001b[0m:\u001b[34mHST\u001b[0m:  chip=0 cpu=0 DEBUG: state 1 core 4 axon 1000 t7680\n",
      "\u001b[1;30mINFO\u001b[0m:\u001b[34mHST\u001b[0m:  chip=0 cpu=0 DEBUG : action 3 core 4 axon 1027 t7808\n",
      "\u001b[1;30mINFO\u001b[0m:\u001b[34mHST\u001b[0m:  chip=0 cpu=0 DEBUG: X=0 Y=0\n",
      "\u001b[1;30mINFO\u001b[0m:\u001b[34mHST\u001b[0m:  chip=0 cpu=0 DEBUG: state 0 core 4 axon 999 t7808\n",
      "\u001b[1;30mINFO\u001b[0m:\u001b[34mHST\u001b[0m:  chip=0 cpu=0 DEBUG : action 3 core 4 axon 1027 t7936\n",
      "\u001b[1;30mINFO\u001b[0m:\u001b[34mHST\u001b[0m:  chip=0 cpu=0 DEBUG: X=0 Y=0\n",
      "\u001b[1;30mINFO\u001b[0m:\u001b[34mHST\u001b[0m:  chip=0 cpu=0 DEBUG: state 0 core 4 axon 999 t7936\n",
      "\u001b[1;30mINFO\u001b[0m:\u001b[34mHST\u001b[0m:  chip=0 cpu=0 DEBUG : action 3 core 4 axon 1027 t8064\n",
      "\u001b[1;30mINFO\u001b[0m:\u001b[34mHST\u001b[0m:  chip=0 cpu=0 DEBUG: X=0 Y=0\n",
      "\u001b[1;30mINFO\u001b[0m:\u001b[34mHST\u001b[0m:  chip=0 cpu=0 DEBUG: state 0 core 4 axon 999 t8064\n",
      "\u001b[1;30mINFO\u001b[0m:\u001b[34mHST\u001b[0m:  chip=0 cpu=0 DEBUG : action 2 core 4 axon 1026 t8192\n",
      "\u001b[1;30mINFO\u001b[0m:\u001b[34mHST\u001b[0m:  chip=0 cpu=0 DEBUG: X=0 Y=4\n",
      "\u001b[1;30mINFO\u001b[0m:\u001b[34mHST\u001b[0m:  chip=0 cpu=0 DEBUG: state 20 core 4 axon 1019 t8192\n",
      "\u001b[1;30mINFO\u001b[0m:\u001b[34mHST\u001b[0m:  chip=0 cpu=0 DEBUG : action 2 core 4 axon 1026 t8320\n",
      "\u001b[1;30mINFO\u001b[0m:\u001b[34mHST\u001b[0m:  chip=0 cpu=0 DEBUG: X=0 Y=3\n",
      "\u001b[1;30mINFO\u001b[0m:\u001b[34mHST\u001b[0m:  chip=0 cpu=0 DEBUG: state 15 core 4 axon 1014 t8320\n",
      "\u001b[1;30mINFO\u001b[0m:\u001b[34mHST\u001b[0m:  chip=0 cpu=0 DEBUG : action 1 core 4 axon 1025 t8448\n",
      "\u001b[1;30mINFO\u001b[0m:\u001b[34mHST\u001b[0m:  chip=0 cpu=0 DEBUG: New episode started\n",
      "\u001b[1;30mINFO\u001b[0m:\u001b[34mHST\u001b[0m:  chip=0 cpu=0 DEBUG: punishment, core 5 axon 910 t8448\n",
      "\u001b[1;30mINFO\u001b[0m:\u001b[34mHST\u001b[0m:  chip=0 cpu=0 DEBUG: X=2 Y=4\n",
      "\u001b[1;30mINFO\u001b[0m:\u001b[34mHST\u001b[0m:  chip=0 cpu=0 DEBUG: state 22 core 4 axon 1021 t8448\n",
      "\u001b[1;30mINFO\u001b[0m:\u001b[34mHST\u001b[0m:  chip=0 cpu=0 DEBUG : action 0 core 4 axon 1024 t8576\n",
      "\u001b[1;30mINFO\u001b[0m:\u001b[34mHST\u001b[0m:  chip=0 cpu=0 DEBUG: X=2 Y=0\n",
      "\u001b[1;30mINFO\u001b[0m:\u001b[34mHST\u001b[0m:  chip=0 cpu=0 DEBUG: state 2 core 4 axon 1001 t8576\n",
      "\u001b[1;30mINFO\u001b[0m:\u001b[34mHST\u001b[0m:  chip=0 cpu=0 DEBUG : action 2 core 4 axon 1026 t8704\n",
      "\u001b[1;30mINFO\u001b[0m:\u001b[34mHST\u001b[0m:  chip=0 cpu=0 DEBUG: X=2 Y=4\n",
      "\u001b[1;30mINFO\u001b[0m:\u001b[34mHST\u001b[0m:  chip=0 cpu=0 DEBUG: state 22 core 4 axon 1021 t8704\n",
      "\u001b[1;30mINFO\u001b[0m:\u001b[34mHST\u001b[0m:  chip=0 cpu=0 DEBUG : action 1 core 4 axon 1025 t8832\n",
      "\u001b[1;30mINFO\u001b[0m:\u001b[34mHST\u001b[0m:  chip=0 cpu=0 DEBUG: X=3 Y=4\n",
      "\u001b[1;30mINFO\u001b[0m:\u001b[34mHST\u001b[0m:  chip=0 cpu=0 DEBUG: state 23 core 4 axon 1022 t8832\n",
      "\u001b[1;30mINFO\u001b[0m:\u001b[34mHST\u001b[0m:  chip=0 cpu=0 DEBUG : action 3 core 4 axon 1027 t8960\n",
      "\u001b[1;30mINFO\u001b[0m:\u001b[34mHST\u001b[0m:  chip=0 cpu=0 DEBUG: X=2 Y=4\n",
      "\u001b[1;30mINFO\u001b[0m:\u001b[34mHST\u001b[0m:  chip=0 cpu=0 DEBUG: state 22 core 4 axon 1021 t8960\n",
      "\u001b[1;30mINFO\u001b[0m:\u001b[34mHST\u001b[0m:  chip=0 cpu=0 DEBUG : action 0 core 4 axon 1024 t9088\n",
      "\u001b[1;30mINFO\u001b[0m:\u001b[34mHST\u001b[0m:  chip=0 cpu=0 DEBUG: X=2 Y=0\n",
      "\u001b[1;30mINFO\u001b[0m:\u001b[34mHST\u001b[0m:  chip=0 cpu=0 DEBUG: state 2 core 4 axon 1001 t9088\n",
      "\u001b[1;30mINFO\u001b[0m:\u001b[34mHST\u001b[0m:  chip=0 cpu=0 DEBUG : action 3 core 4 axon 1027 t9216\n",
      "\u001b[1;30mINFO\u001b[0m:\u001b[34mHST\u001b[0m:  chip=0 cpu=0 DEBUG: X=1 Y=0\n",
      "\u001b[1;30mINFO\u001b[0m:\u001b[34mHST\u001b[0m:  chip=0 cpu=0 DEBUG: state 1 core 4 axon 1000 t9216\n",
      "\u001b[1;30mINFO\u001b[0m:\u001b[34mHST\u001b[0m:  chip=0 cpu=0 DEBUG : action 0 core 4 axon 1024 t9344\n",
      "\u001b[1;30mINFO\u001b[0m:\u001b[34mHST\u001b[0m:  chip=0 cpu=0 DEBUG: X=1 Y=1\n",
      "\u001b[1;30mINFO\u001b[0m:\u001b[34mHST\u001b[0m:  chip=0 cpu=0 DEBUG: state 6 core 4 axon 1005 t9344\n",
      "\u001b[1;30mINFO\u001b[0m:\u001b[34mHST\u001b[0m:  chip=0 cpu=0 DEBUG : action 3 core 4 axon 1027 t9472\n",
      "\u001b[1;30mINFO\u001b[0m:\u001b[34mHST\u001b[0m:  chip=0 cpu=0 DEBUG: X=0 Y=1\n",
      "\u001b[1;30mINFO\u001b[0m:\u001b[34mHST\u001b[0m:  chip=0 cpu=0 DEBUG: state 5 core 4 axon 1004 t9472\n",
      "\u001b[1;30mINFO\u001b[0m:\u001b[34mHST\u001b[0m:  chip=0 cpu=0 DEBUG : action 1 core 4 axon 1025 t9600\n",
      "\u001b[1;30mINFO\u001b[0m:\u001b[34mHST\u001b[0m:  chip=0 cpu=0 DEBUG: New episode started\n",
      "\u001b[1;30mINFO\u001b[0m:\u001b[34mHST\u001b[0m:  chip=0 cpu=0 DEBUG: punishment, core 5 axon 910 t9600\n",
      "\u001b[1;30mINFO\u001b[0m:\u001b[34mHST\u001b[0m:  chip=0 cpu=0 DEBUG: X=1 Y=3\n",
      "\u001b[1;30mINFO\u001b[0m:\u001b[34mHST\u001b[0m:  chip=0 cpu=0 DEBUG: state 16 core 4 axon 1015 t9600\n",
      "\u001b[1;30mINFO\u001b[0m:\u001b[34mHST\u001b[0m:  chip=0 cpu=0 DEBUG : action 2 core 4 axon 1026 t9728\n",
      "\u001b[1;30mINFO\u001b[0m:\u001b[34mHST\u001b[0m:  chip=0 cpu=0 DEBUG: X=1 Y=2\n",
      "\u001b[1;30mINFO\u001b[0m:\u001b[34mHST\u001b[0m:  chip=0 cpu=0 DEBUG: state 11 core 4 axon 1010 t9728\n",
      "\u001b[1;30mINFO\u001b[0m:\u001b[34mHST\u001b[0m:  chip=0 cpu=0 DEBUG : action 3 core 4 axon 1027 t9856\n",
      "\u001b[1;30mINFO\u001b[0m:\u001b[34mHST\u001b[0m:  chip=0 cpu=0 DEBUG: X=0 Y=2\n",
      "\u001b[1;30mINFO\u001b[0m:\u001b[34mHST\u001b[0m:  chip=0 cpu=0 DEBUG: state 10 core 4 axon 1009 t9856\n",
      "\u001b[1;30mINFO\u001b[0m:\u001b[34mHST\u001b[0m:  chip=0 cpu=0 DEBUG : action 3 core 4 axon 1027 t9984\n",
      "\u001b[1;30mINFO\u001b[0m:\u001b[34mHST\u001b[0m:  chip=0 cpu=0 DEBUG: X=0 Y=2\n",
      "\u001b[1;30mINFO\u001b[0m:\u001b[34mHST\u001b[0m:  chip=0 cpu=0 DEBUG: state 10 core 4 axon 1009 t9984\n",
      "\u001b[1;30mINFO\u001b[0m:\u001b[34mHST\u001b[0m:  chip=0 cpu=0 DEBUG : action 2 core 4 axon 1026 t10112\n",
      "\u001b[1;30mINFO\u001b[0m:\u001b[34mHST\u001b[0m:  chip=0 cpu=0 DEBUG: X=0 Y=1\n",
      "\u001b[1;30mINFO\u001b[0m:\u001b[34mHST\u001b[0m:  chip=0 cpu=0 DEBUG: state 5 core 4 axon 1004 t10112\n",
      "\u001b[1;30mINFO\u001b[0m:\u001b[34mHST\u001b[0m:  chip=0 cpu=0 DEBUG : action 3 core 4 axon 1027 t10240\n",
      "\u001b[1;30mINFO\u001b[0m:\u001b[34mHST\u001b[0m:  chip=0 cpu=0 DEBUG: X=0 Y=1\n",
      "\u001b[1;30mINFO\u001b[0m:\u001b[34mHST\u001b[0m:  chip=0 cpu=0 DEBUG: state 5 core 4 axon 1004 t10240\n",
      "\u001b[1;30mINFO\u001b[0m:\u001b[34mHST\u001b[0m:  chip=0 cpu=0 DEBUG : action 2 core 4 axon 1026 t10368\n",
      "\u001b[1;30mINFO\u001b[0m:\u001b[34mHST\u001b[0m:  chip=0 cpu=0 DEBUG: X=0 Y=0\n",
      "\u001b[1;30mINFO\u001b[0m:\u001b[34mHST\u001b[0m:  chip=0 cpu=0 DEBUG: state 0 core 4 axon 999 t10368\n",
      "\u001b[1;30mINFO\u001b[0m:\u001b[34mHST\u001b[0m:  chip=0 cpu=0 DEBUG : action 2 core 4 axon 1026 t10496\n",
      "\u001b[1;30mINFO\u001b[0m:\u001b[34mHST\u001b[0m:  chip=0 cpu=0 DEBUG: X=0 Y=4\n",
      "\u001b[1;30mINFO\u001b[0m:\u001b[34mHST\u001b[0m:  chip=0 cpu=0 DEBUG: state 20 core 4 axon 1019 t10496\n",
      "\u001b[1;30mINFO\u001b[0m:\u001b[34mHST\u001b[0m:  chip=0 cpu=0 DEBUG : action 3 core 4 axon 1027 t10624\n",
      "\u001b[1;30mINFO\u001b[0m:\u001b[34mHST\u001b[0m:  chip=0 cpu=0 DEBUG: X=0 Y=4\n",
      "\u001b[1;30mINFO\u001b[0m:\u001b[34mHST\u001b[0m:  chip=0 cpu=0 DEBUG: state 20 core 4 axon 1019 t10624\n",
      "\u001b[1;30mINFO\u001b[0m:\u001b[34mHST\u001b[0m:  chip=0 cpu=0 DEBUG : action 1 core 4 axon 1025 t10752\n",
      "\u001b[1;30mINFO\u001b[0m:\u001b[34mHST\u001b[0m:  chip=0 cpu=0 DEBUG: New episode started\n",
      "\u001b[1;30mINFO\u001b[0m:\u001b[34mHST\u001b[0m:  chip=0 cpu=0 DEBUG: punishment, core 5 axon 910 t10752\n",
      "\u001b[1;30mINFO\u001b[0m:\u001b[34mHST\u001b[0m:  chip=0 cpu=0 DEBUG: X=3 Y=0\n",
      "\u001b[1;30mINFO\u001b[0m:\u001b[34mHST\u001b[0m:  chip=0 cpu=0 DEBUG: state 3 core 4 axon 1002 t10752\n",
      "\u001b[1;30mINFO\u001b[0m:\u001b[34mHST\u001b[0m:  chip=0 cpu=0 DEBUG : action 3 core 4 axon 1027 t10880\n",
      "\u001b[1;30mINFO\u001b[0m:\u001b[34mHST\u001b[0m:  chip=0 cpu=0 DEBUG: X=2 Y=0\n",
      "\u001b[1;30mINFO\u001b[0m:\u001b[34mHST\u001b[0m:  chip=0 cpu=0 DEBUG: state 2 core 4 axon 1001 t10880\n",
      "\u001b[1;30mINFO\u001b[0m:\u001b[34mHST\u001b[0m:  chip=0 cpu=0 DEBUG : action 0 core 4 axon 1024 t11008\n",
      "\u001b[1;30mINFO\u001b[0m:\u001b[34mHST\u001b[0m:  chip=0 cpu=0 DEBUG: X=2 Y=1\n",
      "\u001b[1;30mINFO\u001b[0m:\u001b[34mHST\u001b[0m:  chip=0 cpu=0 DEBUG: state 7 core 4 axon 1006 t11008\n",
      "\u001b[1;30mINFO\u001b[0m:\u001b[34mHST\u001b[0m:  chip=0 cpu=0 DEBUG : action 0 core 4 axon 1024 t11136\n",
      "\u001b[1;30mINFO\u001b[0m:\u001b[34mHST\u001b[0m:  chip=0 cpu=0 DEBUG: New episode started\n",
      "\u001b[1;30mINFO\u001b[0m:\u001b[34mHST\u001b[0m:  chip=0 cpu=0 DEBUG: reward, core 5 axon 909 t11136\n",
      "\u001b[1;30mINFO\u001b[0m:\u001b[34mHST\u001b[0m:  chip=0 cpu=0 DEBUG: X=3 Y=0\n",
      "\u001b[1;30mINFO\u001b[0m:\u001b[34mHST\u001b[0m:  chip=0 cpu=0 DEBUG: state 3 core 4 axon 1002 t11136\n",
      "\u001b[1;30mINFO\u001b[0m:\u001b[34mHST\u001b[0m:  chip=0 cpu=0 DEBUG : action 3 core 4 axon 1027 t11264\n",
      "\u001b[1;30mINFO\u001b[0m:\u001b[34mHST\u001b[0m:  chip=0 cpu=0 DEBUG: X=2 Y=0\n",
      "\u001b[1;30mINFO\u001b[0m:\u001b[34mHST\u001b[0m:  chip=0 cpu=0 DEBUG: state 2 core 4 axon 1001 t11264\n",
      "\u001b[1;30mINFO\u001b[0m:\u001b[34mHST\u001b[0m:  chip=0 cpu=0 DEBUG : action 0 core 4 axon 1024 t11392\n",
      "\u001b[1;30mINFO\u001b[0m:\u001b[34mHST\u001b[0m:  chip=0 cpu=0 DEBUG: X=2 Y=1\n",
      "\u001b[1;30mINFO\u001b[0m:\u001b[34mHST\u001b[0m:  chip=0 cpu=0 DEBUG: state 7 core 4 axon 1006 t11392\n",
      "\u001b[1;30mINFO\u001b[0m:\u001b[34mHST\u001b[0m:  chip=0 cpu=0 DEBUG : action 0 core 4 axon 1024 t11520\n",
      "\u001b[1;30mINFO\u001b[0m:\u001b[34mHST\u001b[0m:  chip=0 cpu=0 DEBUG: New episode started\n",
      "\u001b[1;30mINFO\u001b[0m:\u001b[34mHST\u001b[0m:  chip=0 cpu=0 DEBUG: reward, core 5 axon 909 t11520\n",
      "\u001b[1;30mINFO\u001b[0m:\u001b[34mHST\u001b[0m:  chip=0 cpu=0 DEBUG: X=1 Y=4\n",
      "\u001b[1;30mINFO\u001b[0m:\u001b[34mHST\u001b[0m:  chip=0 cpu=0 DEBUG: state 21 core 4 axon 1020 t11520\n",
      "\u001b[1;30mINFO\u001b[0m:\u001b[34mHST\u001b[0m:  chip=0 cpu=0 DEBUG : action 2 core 4 axon 1026 t11648\n"
     ]
    },
    {
     "name": "stdout",
     "output_type": "stream",
     "text": [
      "\u001b[1;30mINFO\u001b[0m:\u001b[34mHST\u001b[0m:  chip=0 cpu=0 DEBUG: X=1 Y=3\n",
      "\u001b[1;30mINFO\u001b[0m:\u001b[34mHST\u001b[0m:  chip=0 cpu=0 DEBUG: state 16 core 4 axon 1015 t11648\n",
      "\u001b[1;30mINFO\u001b[0m:\u001b[34mHST\u001b[0m:  chip=0 cpu=0 DEBUG : action 1 core 4 axon 1025 t11776\n",
      "\u001b[1;30mINFO\u001b[0m:\u001b[34mHST\u001b[0m:  chip=0 cpu=0 DEBUG: X=2 Y=3\n",
      "\u001b[1;30mINFO\u001b[0m:\u001b[34mHST\u001b[0m:  chip=0 cpu=0 DEBUG: state 17 core 4 axon 1016 t11776\n",
      "\u001b[1;30mINFO\u001b[0m:\u001b[34mHST\u001b[0m:  chip=0 cpu=0 DEBUG : action 2 core 4 axon 1026 t11904\n",
      "\u001b[1;30mINFO\u001b[0m:\u001b[34mHST\u001b[0m:  chip=0 cpu=0 DEBUG: New episode started\n",
      "\u001b[1;30mINFO\u001b[0m:\u001b[34mHST\u001b[0m:  chip=0 cpu=0 DEBUG: reward, core 5 axon 909 t11904\n",
      "\u001b[1;30mINFO\u001b[0m:\u001b[34mHST\u001b[0m:  chip=0 cpu=0 DEBUG: X=2 Y=4\n",
      "\u001b[1;30mINFO\u001b[0m:\u001b[34mHST\u001b[0m:  chip=0 cpu=0 DEBUG: state 22 core 4 axon 1021 t11904\n",
      "\u001b[1;30mINFO\u001b[0m:\u001b[34mHST\u001b[0m:  chip=0 cpu=0 DEBUG : action 3 core 4 axon 1027 t12032\n",
      "\u001b[1;30mINFO\u001b[0m:\u001b[34mHST\u001b[0m:  chip=0 cpu=0 DEBUG: X=1 Y=4\n",
      "\u001b[1;30mINFO\u001b[0m:\u001b[34mHST\u001b[0m:  chip=0 cpu=0 DEBUG: state 21 core 4 axon 1020 t12032\n",
      "\u001b[1;30mINFO\u001b[0m:\u001b[34mHST\u001b[0m:  chip=0 cpu=0 DEBUG : action 2 core 4 axon 1026 t12160\n",
      "\u001b[1;30mINFO\u001b[0m:\u001b[34mHST\u001b[0m:  chip=0 cpu=0 DEBUG: X=1 Y=3\n",
      "\u001b[1;30mINFO\u001b[0m:\u001b[34mHST\u001b[0m:  chip=0 cpu=0 DEBUG: state 16 core 4 axon 1015 t12160\n",
      "\u001b[1;30mINFO\u001b[0m:\u001b[34mHST\u001b[0m:  chip=0 cpu=0 DEBUG : action 1 core 4 axon 1025 t12288\n",
      "\u001b[1;30mINFO\u001b[0m:\u001b[34mHST\u001b[0m:  chip=0 cpu=0 DEBUG: X=2 Y=3\n",
      "\u001b[1;30mINFO\u001b[0m:\u001b[34mHST\u001b[0m:  chip=0 cpu=0 DEBUG: state 17 core 4 axon 1016 t12288\n",
      "\u001b[1;30mINFO\u001b[0m:\u001b[34mHST\u001b[0m:  chip=0 cpu=0 DEBUG : action 2 core 4 axon 1026 t12416\n",
      "\u001b[1;30mINFO\u001b[0m:\u001b[34mHST\u001b[0m:  chip=0 cpu=0 DEBUG: New episode started\n",
      "\u001b[1;30mINFO\u001b[0m:\u001b[34mHST\u001b[0m:  chip=0 cpu=0 DEBUG: reward, core 5 axon 909 t12416\n",
      "\u001b[1;30mINFO\u001b[0m:\u001b[34mHST\u001b[0m:  chip=0 cpu=0 DEBUG: X=2 Y=1\n",
      "\u001b[1;30mINFO\u001b[0m:\u001b[34mHST\u001b[0m:  chip=0 cpu=0 DEBUG: state 7 core 4 axon 1006 t12416\n",
      "\u001b[1;30mINFO\u001b[0m:\u001b[34mHST\u001b[0m:  chip=0 cpu=0 DEBUG : action 0 core 4 axon 1024 t12544\n",
      "\u001b[1;30mINFO\u001b[0m:\u001b[34mHST\u001b[0m:  chip=0 cpu=0 DEBUG: New episode started\n",
      "\u001b[1;30mINFO\u001b[0m:\u001b[34mHST\u001b[0m:  chip=0 cpu=0 DEBUG: reward, core 5 axon 909 t12544\n",
      "\u001b[1;30mINFO\u001b[0m:\u001b[34mHST\u001b[0m:  chip=0 cpu=0 DEBUG: X=3 Y=1\n",
      "\u001b[1;30mINFO\u001b[0m:\u001b[34mHST\u001b[0m:  chip=0 cpu=0 DEBUG: state 8 core 4 axon 1007 t12544\n",
      "\u001b[1;30mINFO\u001b[0m:\u001b[34mHST\u001b[0m:  chip=0 cpu=0 DEBUG : action 0 core 4 axon 1024 t12672\n",
      "\u001b[1;30mINFO\u001b[0m:\u001b[34mHST\u001b[0m:  chip=0 cpu=0 DEBUG: X=3 Y=2\n",
      "\u001b[1;30mINFO\u001b[0m:\u001b[34mHST\u001b[0m:  chip=0 cpu=0 DEBUG: state 13 core 4 axon 1012 t12672\n",
      "\u001b[1;30mINFO\u001b[0m:\u001b[34mHST\u001b[0m:  chip=0 cpu=0 DEBUG : action 3 core 4 axon 1027 t12800\n",
      "\u001b[1;30mINFO\u001b[0m:\u001b[34mHST\u001b[0m:  chip=0 cpu=0 DEBUG: New episode started\n",
      "\u001b[1;30mINFO\u001b[0m:\u001b[34mDRV\u001b[0m:      Executing...................Done 3.87s\n",
      "\u001b[1;30mINFO\u001b[0m:\u001b[34mHST\u001b[0m:  chip=0 cpu=0 DEBUG: reward, core 5 axon 909 t12800\n",
      "\u001b[1;30mINFO\u001b[0m:\u001b[34mHST\u001b[0m:  chip=0 cpu=0 DEBUG: X=3 Y=1\n",
      "\u001b[1;30mINFO\u001b[0m:\u001b[34mHST\u001b[0m:  chip=0 cpu=0 DEBUG: state 8 core 4 axon 1007 t12800\n",
      "\u001b[1;30mINFO\u001b[0m:\u001b[34mDRV\u001b[0m:      Processing timeseries.......Done 0.28s\n",
      "\u001b[1;30mINFO\u001b[0m:\u001b[34mDRV\u001b[0m:  Executor: 12800 timesteps.......Done 4.30s\n"
     ]
    }
   ],
   "source": [
    "results = []\n",
    "runs = 1\n",
    "for i in range(runs):\n",
    "    results.append(agent.run(n_epochs))"
   ]
  },
  {
   "cell_type": "code",
   "execution_count": 17,
   "metadata": {},
   "outputs": [
    {
     "name": "stdout",
     "output_type": "stream",
     "text": [
      "\u001b[1;30mINFO\u001b[0m:\u001b[34mHST\u001b[0m:  chip=0 cpu=0 halted, status=0x0\n"
     ]
    }
   ],
   "source": [
    "agent.board.disconnect()"
   ]
  },
  {
   "cell_type": "code",
   "execution_count": 18,
   "metadata": {},
   "outputs": [
    {
     "data": {
      "text/plain": [
       "(array([[1, 2, 0],\n",
       "        [1, 3, 3],\n",
       "        [0, 3, 3],\n",
       "        [0, 3, 1],\n",
       "        [1, 3, 3],\n",
       "        [0, 3, 2],\n",
       "        [0, 2, 3],\n",
       "        [0, 2, 3],\n",
       "        [0, 2, 3],\n",
       "        [0, 2, 1],\n",
       "        [4, 0, 3],\n",
       "        [3, 0, 1],\n",
       "        [4, 0, 1],\n",
       "        [4, 0, 3],\n",
       "        [3, 0, 2],\n",
       "        [3, 4, 1],\n",
       "        [4, 4, 1],\n",
       "        [4, 4, 2],\n",
       "        [4, 4, 2],\n",
       "        [1, 4, 1],\n",
       "        [2, 4, 0],\n",
       "        [2, 0, 3],\n",
       "        [1, 0, 2],\n",
       "        [1, 4, 1],\n",
       "        [2, 4, 3],\n",
       "        [1, 4, 2],\n",
       "        [1, 3, 1],\n",
       "        [2, 3, 3],\n",
       "        [3, 0, 0],\n",
       "        [3, 1, 0],\n",
       "        [3, 2, 3],\n",
       "        [2, 4, 0],\n",
       "        [2, 0, 1],\n",
       "        [3, 0, 1],\n",
       "        [4, 0, 0],\n",
       "        [4, 0, 0],\n",
       "        [4, 0, 2],\n",
       "        [4, 0, 3],\n",
       "        [3, 0, 0],\n",
       "        [3, 1, 3],\n",
       "        [1, 1, 3],\n",
       "        [0, 1, 2],\n",
       "        [0, 0, 0],\n",
       "        [0, 1, 1],\n",
       "        [1, 1, 1],\n",
       "        [2, 1, 3],\n",
       "        [1, 1, 1],\n",
       "        [2, 1, 1],\n",
       "        [3, 1, 0],\n",
       "        [4, 3, 0],\n",
       "        [4, 3, 3],\n",
       "        [3, 3, 2],\n",
       "        [3, 2, 2],\n",
       "        [3, 1, 2],\n",
       "        [3, 0, 3],\n",
       "        [2, 0, 0],\n",
       "        [2, 1, 0],\n",
       "        [1, 1, 2],\n",
       "        [1, 0, 0],\n",
       "        [1, 1, 2],\n",
       "        [1, 0, 3],\n",
       "        [0, 0, 3],\n",
       "        [0, 0, 3],\n",
       "        [0, 0, 2],\n",
       "        [0, 4, 2],\n",
       "        [0, 3, 1],\n",
       "        [2, 4, 0],\n",
       "        [2, 0, 2],\n",
       "        [2, 4, 1],\n",
       "        [3, 4, 3],\n",
       "        [2, 4, 0],\n",
       "        [2, 0, 3],\n",
       "        [1, 0, 0],\n",
       "        [1, 1, 3],\n",
       "        [0, 1, 1],\n",
       "        [1, 3, 2],\n",
       "        [1, 2, 3],\n",
       "        [0, 2, 3],\n",
       "        [0, 2, 2],\n",
       "        [0, 1, 3],\n",
       "        [0, 1, 2],\n",
       "        [0, 0, 2],\n",
       "        [0, 4, 3],\n",
       "        [0, 4, 1],\n",
       "        [3, 0, 3],\n",
       "        [2, 0, 0],\n",
       "        [2, 1, 0],\n",
       "        [3, 0, 3],\n",
       "        [2, 0, 0],\n",
       "        [2, 1, 0],\n",
       "        [1, 4, 2],\n",
       "        [1, 3, 1],\n",
       "        [2, 3, 2],\n",
       "        [2, 4, 3],\n",
       "        [1, 4, 2],\n",
       "        [1, 3, 1],\n",
       "        [2, 3, 2],\n",
       "        [2, 1, 0],\n",
       "        [3, 1, 0],\n",
       "        [3, 2, 3]]),\n",
       " array([ 0,  0,  0,  0,  0,  0,  0,  0,  0, -1,  0,  0,  0,  0,  0,  0,  0,\n",
       "         0, -1,  0,  0,  0,  0,  0,  0,  0,  0, -1,  0,  0,  1,  0,  0,  0,\n",
       "         0,  0,  0,  0,  0, -1,  0,  0,  0,  0,  0,  0,  0,  0, -1,  0,  0,\n",
       "         0,  0,  0,  0,  0,  1,  0,  0,  0,  0,  0,  0,  0,  0, -1,  0,  0,\n",
       "         0,  0,  0,  0,  0,  0, -1,  0,  0,  0,  0,  0,  0,  0,  0, -1,  0,\n",
       "         0,  1,  0,  0,  1,  0,  0,  1,  0,  0,  0,  1,  1,  0,  1]),\n",
       " array([[    0,     0,     0,     0],\n",
       "        [15232, 15232, 15232, 15232],\n",
       "        [ 7808,  7808,  7808,  7808],\n",
       "        [ 7936,  7936,  7936,  7936],\n",
       "        [ 7808,  7808,  7808,  7808],\n",
       "        [ 7936,  7936,  7936,  7936],\n",
       "        [ 7808,  7808,  7808,  7808],\n",
       "        [ 7936,  7936,  7936,  7936],\n",
       "        [ 7808,  7808,  7808,  7808],\n",
       "        [ 7936,  7936,  7936,  7936],\n",
       "        [ 7808,  7808,  7808,  7808],\n",
       "        [ 7936,  7936,  7936,  7936],\n",
       "        [ 7808,  7808,  7808,  7808],\n",
       "        [ 7936,  7936,  7936,  7936],\n",
       "        [ 7808,  7808,  7808,  7808],\n",
       "        [ 7936,  7936,  7936,  7936],\n",
       "        [ 7808,  7808,  7808,  7808],\n",
       "        [ 7936,  7936,  7936,  7936],\n",
       "        [ 7808,  7808,  7808,  7808],\n",
       "        [ 7936,  7936,  7936,  7936],\n",
       "        [ 7808,  7808,  7808,  7808],\n",
       "        [ 7936,  7936,  7936,  7936],\n",
       "        [ 7808,  7808,  7808,  7808],\n",
       "        [ 7936,  7936,  7936,  7936],\n",
       "        [ 7808,  7808,  7808,  7808],\n",
       "        [ 7936,  7936,  7936,  7936],\n",
       "        [ 7808,  7808,  7808,  7808],\n",
       "        [ 7936,  7936,  7936,  7936],\n",
       "        [ 7808,  7680,  7680,  7808],\n",
       "        [ 7936,  7936,  7936,  7936],\n",
       "        [ 7808,  7808,  7808,  7808],\n",
       "        [ 8064,  8064,  8064,  8064],\n",
       "        [ 7808,  7808,  7808,  7808],\n",
       "        [ 7808,  7808,  7808,  7808],\n",
       "        [ 7936,  7680,  7808,  7808],\n",
       "        [ 7808,  7808,  7808,  7808],\n",
       "        [ 7936,  7680,  7936,  7680],\n",
       "        [ 7808,  7808,  7808,  7808],\n",
       "        [ 7936,  7680,  7808,  7808],\n",
       "        [ 7808,  7808,  7808,  7808],\n",
       "        [ 7936,  7936,  7936,  7936],\n",
       "        [ 7808,  7808,  7808,  7808],\n",
       "        [ 7936,  7936,  7936,  7936],\n",
       "        [ 7808,  7808,  7808,  7808],\n",
       "        [ 7936,  7936,  7936,  7936],\n",
       "        [ 7808,  7808,  7808,  7808],\n",
       "        [ 7936,  7936,  7936,  7936],\n",
       "        [ 7808,  7808,  7808,  7808],\n",
       "        [ 7936,  7936,  7936,  7808],\n",
       "        [ 7808,  7808,  7808,  7808],\n",
       "        [ 7936,  7936,  7936,  7936],\n",
       "        [ 7808,  7808,  7808,  7808],\n",
       "        [ 7936,  7936,  7936,  7936],\n",
       "        [ 7808,  7808,  7808,  7680],\n",
       "        [ 7808,  7680,  7808,  7936],\n",
       "        [ 7808,  7680,  7808,  7808],\n",
       "        [ 7936,  7936,  7936,  7936],\n",
       "        [ 7808,  7808,  7808,  7808],\n",
       "        [ 7936,  7936,  7936,  7936],\n",
       "        [ 7808,  7808,  7808,  7808],\n",
       "        [ 7936,  7936,  7936,  7936],\n",
       "        [ 7808,  7808,  7808,  7808],\n",
       "        [ 7936,  7936,  7936,  7936],\n",
       "        [ 7808,  7808,  7808,  7808],\n",
       "        [ 7936,  7936,  7936,  7936],\n",
       "        [ 7808,  7808,  7808,  7808],\n",
       "        [ 7808,  7808,  7808,  7808],\n",
       "        [ 7808,  7808,  7936,  7936],\n",
       "        [ 7808,  7808,  7808,  7808],\n",
       "        [ 7808,  7808,  7936,  7936],\n",
       "        [ 7808,  7808,  7808,  7808],\n",
       "        [ 7808,  7808,  7936,  7936],\n",
       "        [ 7808,  7808,  7808,  7808],\n",
       "        [ 7936,  7936,  7936,  7936],\n",
       "        [ 7808,  7808,  7808,  7808],\n",
       "        [ 7936,  7936,  7936,  7936],\n",
       "        [ 7808,  7808,  7808,  7808],\n",
       "        [ 7936,  7936,  7936,  7936],\n",
       "        [ 7808,  7808,  7808,  7808],\n",
       "        [ 7936,  7808,  7936,  7936],\n",
       "        [ 7808,  7680,  7808,  7808],\n",
       "        [ 7936,  7936,  7936,  7936],\n",
       "        [ 7808,  7808,  7808,  7808],\n",
       "        [ 7936,  7936,  7936,  7936],\n",
       "        [ 7680,  7552,  7680,  7808],\n",
       "        [ 7936,  7808,  7808,  7808],\n",
       "        [ 7808,  7808,  7808,  7808],\n",
       "        [ 7808,  7680,  7808,  8064],\n",
       "        [ 7936,  7680,  7680,  7680],\n",
       "        [ 8064,  7936,  7936,  7936],\n",
       "        [ 7808,  7808,  7808,  7808],\n",
       "        [ 7936,  7936,  7936,  7936],\n",
       "        [ 7808,  7808,  7808,  7808],\n",
       "        [ 7680,  7808,  7936,  7936],\n",
       "        [ 7808,  7808,  7936,  7808],\n",
       "        [ 8064,  8064,  7936,  8064],\n",
       "        [ 7808,  7936,  7936,  7808],\n",
       "        [ 7936,  7808,  7808,  7808],\n",
       "        [ 7936,  7936,  7936,  7808],\n",
       "        [ 7808,  7808,  7808,  7936]]))"
      ]
     },
     "execution_count": 18,
     "metadata": {},
     "output_type": "execute_result"
    }
   ],
   "source": [
    "results[-1]"
   ]
  },
  {
   "cell_type": "code",
   "execution_count": 19,
   "metadata": {},
   "outputs": [
    {
     "data": {
      "text/plain": [
       "(100, 3)"
      ]
     },
     "execution_count": 19,
     "metadata": {},
     "output_type": "execute_result"
    }
   ],
   "source": [
    "results[-1][0].shape"
   ]
  },
  {
   "cell_type": "code",
   "execution_count": 20,
   "metadata": {},
   "outputs": [],
   "source": [
    "data = results[-1][0]"
   ]
  },
  {
   "cell_type": "code",
   "execution_count": 21,
   "metadata": {},
   "outputs": [
    {
     "data": {
      "text/plain": [
       "array([0, 1, 2, 3, 4])"
      ]
     },
     "execution_count": 21,
     "metadata": {},
     "output_type": "execute_result"
    }
   ],
   "source": [
    "np.unique(data[:,0])"
   ]
  },
  {
   "cell_type": "code",
   "execution_count": 22,
   "metadata": {},
   "outputs": [
    {
     "data": {
      "text/plain": [
       "array([0, 1, 2, 3, 4])"
      ]
     },
     "execution_count": 22,
     "metadata": {},
     "output_type": "execute_result"
    }
   ],
   "source": [
    "np.unique(data[:,1])"
   ]
  },
  {
   "cell_type": "code",
   "execution_count": 23,
   "metadata": {},
   "outputs": [
    {
     "data": {
      "text/plain": [
       "array([0, 1, 2, 3])"
      ]
     },
     "execution_count": 23,
     "metadata": {},
     "output_type": "execute_result"
    }
   ],
   "source": [
    "np.unique(data[:,2])"
   ]
  },
  {
   "cell_type": "code",
   "execution_count": 24,
   "metadata": {},
   "outputs": [
    {
     "data": {
      "text/plain": [
       "(array([23.,  0., 23.,  0.,  0., 23.,  0., 19.,  0., 12.]),\n",
       " array([0. , 0.4, 0.8, 1.2, 1.6, 2. , 2.4, 2.8, 3.2, 3.6, 4. ]),\n",
       " <a list of 10 Patch objects>)"
      ]
     },
     "execution_count": 24,
     "metadata": {},
     "output_type": "execute_result"
    },
    {
     "data": {
      "image/png": "[encoded data removed]",
      "text/plain": [
       "<Figure size 432x288 with 1 Axes>"
      ]
     },
     "metadata": {
      "needs_background": "light"
     },
     "output_type": "display_data"
    }
   ],
   "source": [
    "plt.hist(results[-1][0][:,0])"
   ]
  },
  {
   "cell_type": "code",
   "execution_count": 26,
   "metadata": {},
   "outputs": [
    {
     "data": {
      "text/plain": [
       "[<matplotlib.lines.Line2D at 0x7f8d4de03320>]"
      ]
     },
     "execution_count": 26,
     "metadata": {},
     "output_type": "execute_result"
    },
    {
     "data": {
      "image/png": "[encoded data removed]",
      "text/plain": [
       "<Figure size 432x288 with 1 Axes>"
      ]
     },
     "metadata": {
      "needs_background": "light"
     },
     "output_type": "display_data"
    }
   ],
   "source": [
    "plt.plot(results[-1][0][:,0], results[-1][0][:,1], alpha=0.50)"
   ]
  },
  {
   "cell_type": "code",
   "execution_count": 22,
   "metadata": {},
   "outputs": [
    {
     "data": {
      "text/plain": [
       "<matplotlib.collections.PathCollection at 0x7f518b43f128>"
      ]
     },
     "execution_count": 22,
     "metadata": {},
     "output_type": "execute_result"
    },
    {
     "data": {
      "image/png": "[encoded data removed]",
      "text/plain": [
       "<Figure size 432x288 with 1 Axes>"
      ]
     },
     "metadata": {
      "needs_background": "light"
     },
     "output_type": "display_data"
    }
   ],
   "source": [
    "plt.scatter(results[-1][0][:,1], results[-1][0][:,2], alpha=0.01)"
   ]
  },
  {
   "cell_type": "code",
   "execution_count": 21,
   "metadata": {},
   "outputs": [
    {
     "data": {
      "text/plain": [
       "<matplotlib.collections.PathCollection at 0x7f6de15a6ba8>"
      ]
     },
     "execution_count": 21,
     "metadata": {},
     "output_type": "execute_result"
    },
    {
     "data": {
      "image/png": "[encoded data removed]",
      "text/plain": [
       "<Figure size 432x288 with 1 Axes>"
      ]
     },
     "metadata": {
      "needs_background": "light"
     },
     "output_type": "display_data"
    }
   ],
   "source": [
    "plt.scatter(results[-1][0][:,1], results[-1][0][:,2], alpha=0.01)"
   ]
  },
  {
   "cell_type": "code",
   "execution_count": 26,
   "metadata": {},
   "outputs": [
    {
     "data": {
      "image/png": "[encoded data removed]",
      "text/plain": [
       "<Figure size 432x288 with 1 Axes>"
      ]
     },
     "metadata": {
      "needs_background": "light"
     },
     "output_type": "display_data"
    }
   ],
   "source": [
    "avglen = agent.l_epoch * 5\n",
    "\n",
    "for i in range(100):\n",
    "    plt.plot(np.convolve(ctx_spks[0].data[i,:],np.ones(avglen), mode='valid')/avglen, alpha=0.5)"
   ]
  },
  {
   "cell_type": "code",
   "execution_count": null,
   "metadata": {},
   "outputs": [],
   "source": []
  }
 ],
 "metadata": {
  "kernelspec": {
   "display_name": "Python 3",
   "language": "python",
   "name": "python3"
  },
  "language_info": {
   "codemirror_mode": {
    "name": "ipython",
    "version": 3
   },
   "file_extension": ".py",
   "mimetype": "text/x-python",
   "name": "python",
   "nbconvert_exporter": "python",
   "pygments_lexer": "ipython3",
   "version": "3.5.2"
  }
 },
 "nbformat": 4,
 "nbformat_minor": 2
}
